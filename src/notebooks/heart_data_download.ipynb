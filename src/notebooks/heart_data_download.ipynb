{
 "cells": [
  {
   "cell_type": "code",
   "execution_count": 3,
   "metadata": {},
   "outputs": [
    {
     "name": "stdout",
     "output_type": "stream",
     "text": [
      "/data/marciano/experiments/one-to-rule-them-all\n"
     ]
    }
   ],
   "source": [
    "%cd /data/marciano/experiments/one-to-rule-them-all/"
   ]
  },
  {
   "cell_type": "code",
   "execution_count": 9,
   "metadata": {},
   "outputs": [],
   "source": [
    "import os\n",
    "\n",
    "def get_download_model_command(file_id, file_name):\n",
    "    save_path = os.getcwd()\n",
    "    url = r\"\"\"wget --load-cookies /tmp/cookies.txt \"https://docs.google.com/uc?export=download&confirm=$(wget --quiet --save-cookies /tmp/cookies.txt --keep-session-cookies --no-check-certificate 'https://docs.google.com/uc?export=download&id={FILE_ID}' -O- | sed -rn 's/.*confirm=([0-9A-Za-z_]+).*/\\1\\n/p')&id={FILE_ID}\" -O {SAVE_PATH}/{FILE_NAME} && rm -rf /tmp/cookies.txt\"\"\".format(FILE_ID=file_id, FILE_NAME=file_name, SAVE_PATH=save_path)\n",
    "    return url\n",
    "\n",
    "MODEL_PATHS = {\n",
    "    \"training\": {\"id\": \"13jEZ9a5dzrFxSofUXCiSXeMveJpyMNRI\", \"name\": \"data/heart/training.zip\"},\n",
    "    \"testing\": {\"id\": \"1r_wS2SxFxBiEfM1JXCWrzzTZcQMnJMbz\", \"name\": \"data/heart/testing.zip\"},\n",
    "    \"predictions\": {\"id\": \"1ikG9S8mzw4ZUgbnAxnm08gfBtkub1xNp\", \"name\": \"data/heart/predictions.zip\"},\n",
    "    \"measures\": {\"id\": \"1Flrl9hjbhW2Vwgd7E1mh07_yFxFOjAVT\", \"name\": \"data/heart/measures.zip\"}\n",
    "}\n",
    "\n",
    "!mkdir data/heart"
   ]
  },
  {
   "cell_type": "code",
   "execution_count": 10,
   "metadata": {},
   "outputs": [
    {
     "name": "stdout",
     "output_type": "stream",
     "text": [
      "--2023-09-18 11:16:46--  https://docs.google.com/uc?export=download&confirm=t&id=13jEZ9a5dzrFxSofUXCiSXeMveJpyMNRI\n",
      "Resolving docs.google.com (docs.google.com)... 142.250.201.46, 2a00:1450:4006:80f::200e\n",
      "Connecting to docs.google.com (docs.google.com)|142.250.201.46|:443... connected.\n",
      "HTTP request sent, awaiting response... 303 See Other\n",
      "Location: https://doc-0o-58-docs.googleusercontent.com/docs/securesc/ha0ro937gcuc7l7deffksulhg5h7mbp1/arrsntt63daniukm9bei7n4kj6fmitbb/1695028575000/10623993580823501740/*/13jEZ9a5dzrFxSofUXCiSXeMveJpyMNRI?e=download&uuid=fdf5420a-9a99-426d-a170-6e510a90fef4 [following]\n",
      "Warning: wildcards not supported in HTTP.\n",
      "--2023-09-18 11:16:46--  https://doc-0o-58-docs.googleusercontent.com/docs/securesc/ha0ro937gcuc7l7deffksulhg5h7mbp1/arrsntt63daniukm9bei7n4kj6fmitbb/1695028575000/10623993580823501740/*/13jEZ9a5dzrFxSofUXCiSXeMveJpyMNRI?e=download&uuid=fdf5420a-9a99-426d-a170-6e510a90fef4\n",
      "Resolving doc-0o-58-docs.googleusercontent.com (doc-0o-58-docs.googleusercontent.com)... 142.250.200.225, 2a00:1450:4006:80d::2001\n",
      "Connecting to doc-0o-58-docs.googleusercontent.com (doc-0o-58-docs.googleusercontent.com)|142.250.200.225|:443... connected.\n",
      "HTTP request sent, awaiting response... 200 OK\n",
      "Length: 1629508628 (1.5G) [application/x-zip-compressed]\n",
      "Saving to: ‘/data/marciano/experiments/one-to-rule-them-all/data/heart/training.zip’\n",
      "\n",
      "/data/marciano/expe 100%[===================>]   1.52G  7.54MB/s    in 2m 47s  \n",
      "\n",
      "2023-09-18 11:19:35 (9.28 MB/s) - ‘/data/marciano/experiments/one-to-rule-them-all/data/heart/training.zip’ saved [1629508628/1629508628]\n",
      "\n",
      "--2023-09-18 11:19:36--  https://docs.google.com/uc?export=download&confirm=t&id=1r_wS2SxFxBiEfM1JXCWrzzTZcQMnJMbz\n",
      "Resolving docs.google.com (docs.google.com)... 142.250.201.46, 2a00:1450:4006:80f::200e\n",
      "Connecting to docs.google.com (docs.google.com)|142.250.201.46|:443... connected.\n",
      "HTTP request sent, awaiting response... 303 See Other\n",
      "Location: https://doc-0o-58-docs.googleusercontent.com/docs/securesc/ha0ro937gcuc7l7deffksulhg5h7mbp1/vftiusuka6s4nf6lejh82fefc9r8sm3s/1695028725000/10623993580823501740/*/1r_wS2SxFxBiEfM1JXCWrzzTZcQMnJMbz?e=download&uuid=982eb850-0ed9-482f-8f46-d0343a04f116 [following]\n",
      "Warning: wildcards not supported in HTTP.\n",
      "--2023-09-18 11:19:36--  https://doc-0o-58-docs.googleusercontent.com/docs/securesc/ha0ro937gcuc7l7deffksulhg5h7mbp1/vftiusuka6s4nf6lejh82fefc9r8sm3s/1695028725000/10623993580823501740/*/1r_wS2SxFxBiEfM1JXCWrzzTZcQMnJMbz?e=download&uuid=982eb850-0ed9-482f-8f46-d0343a04f116\n",
      "Resolving doc-0o-58-docs.googleusercontent.com (doc-0o-58-docs.googleusercontent.com)... 142.250.200.225, 2a00:1450:4006:80d::2001\n",
      "Connecting to doc-0o-58-docs.googleusercontent.com (doc-0o-58-docs.googleusercontent.com)|142.250.200.225|:443... connected.\n",
      "HTTP request sent, awaiting response... 200 OK\n",
      "Length: 799300064 (762M) [application/x-zip-compressed]\n",
      "Saving to: ‘/data/marciano/experiments/one-to-rule-them-all/data/heart/testing.zip’\n",
      "\n",
      "/data/marciano/expe 100%[===================>] 762.27M  10.7MB/s    in 76s     \n",
      "\n",
      "2023-09-18 11:20:52 (10.1 MB/s) - ‘/data/marciano/experiments/one-to-rule-them-all/data/heart/testing.zip’ saved [799300064/799300064]\n",
      "\n",
      "--2023-09-18 11:21:14--  https://docs.google.com/uc?export=download&confirm=&id=1ikG9S8mzw4ZUgbnAxnm08gfBtkub1xNp\n",
      "Resolving docs.google.com (docs.google.com)... 142.250.201.46, 2a00:1450:4006:80f::200e\n",
      "Connecting to docs.google.com (docs.google.com)|142.250.201.46|:443... connected.\n",
      "HTTP request sent, awaiting response... 303 See Other\n",
      "Location: https://doc-0g-58-docs.googleusercontent.com/docs/securesc/ha0ro937gcuc7l7deffksulhg5h7mbp1/17ui9th37oh1p2qqhu087k0ed9pdb2jn/1695028875000/10623993580823501740/*/1ikG9S8mzw4ZUgbnAxnm08gfBtkub1xNp?e=download&uuid=f945222e-da4f-45a4-bd33-764cea7cd292 [following]\n",
      "Warning: wildcards not supported in HTTP.\n",
      "--2023-09-18 11:21:35--  https://doc-0g-58-docs.googleusercontent.com/docs/securesc/ha0ro937gcuc7l7deffksulhg5h7mbp1/17ui9th37oh1p2qqhu087k0ed9pdb2jn/1695028875000/10623993580823501740/*/1ikG9S8mzw4ZUgbnAxnm08gfBtkub1xNp?e=download&uuid=f945222e-da4f-45a4-bd33-764cea7cd292\n",
      "Resolving doc-0g-58-docs.googleusercontent.com (doc-0g-58-docs.googleusercontent.com)... 142.250.200.225, 2a00:1450:4006:80d::2001\n",
      "Connecting to doc-0g-58-docs.googleusercontent.com (doc-0g-58-docs.googleusercontent.com)|142.250.200.225|:443... connected.\n",
      "HTTP request sent, awaiting response... 200 OK\n",
      "Length: 3937301 (3.8M) [application/zip]\n",
      "Saving to: ‘/data/marciano/experiments/one-to-rule-them-all/data/heart/predictions.zip’\n",
      "\n",
      "/data/marciano/expe 100%[===================>]   3.75M  9.55MB/s    in 0.4s    \n",
      "\n",
      "2023-09-18 11:21:35 (9.55 MB/s) - ‘/data/marciano/experiments/one-to-rule-them-all/data/heart/predictions.zip’ saved [3937301/3937301]\n",
      "\n",
      "--2023-09-18 11:21:37--  https://docs.google.com/uc?export=download&confirm=&id=1Flrl9hjbhW2Vwgd7E1mh07_yFxFOjAVT\n",
      "Resolving docs.google.com (docs.google.com)... 142.250.201.46, 2a00:1450:4006:80f::200e\n",
      "Connecting to docs.google.com (docs.google.com)|142.250.201.46|:443... connected.\n",
      "HTTP request sent, awaiting response... 303 See Other\n",
      "Location: https://doc-0g-58-docs.googleusercontent.com/docs/securesc/ha0ro937gcuc7l7deffksulhg5h7mbp1/4eorfu84oh6pgqbafottrnsl2m8jpe4e/1695028875000/10623993580823501740/*/1Flrl9hjbhW2Vwgd7E1mh07_yFxFOjAVT?e=download&uuid=5d87ae68-5f98-4da2-8eb9-d7b26f14922d [following]\n",
      "Warning: wildcards not supported in HTTP.\n",
      "--2023-09-18 11:21:38--  https://doc-0g-58-docs.googleusercontent.com/docs/securesc/ha0ro937gcuc7l7deffksulhg5h7mbp1/4eorfu84oh6pgqbafottrnsl2m8jpe4e/1695028875000/10623993580823501740/*/1Flrl9hjbhW2Vwgd7E1mh07_yFxFOjAVT?e=download&uuid=5d87ae68-5f98-4da2-8eb9-d7b26f14922d\n",
      "Resolving doc-0g-58-docs.googleusercontent.com (doc-0g-58-docs.googleusercontent.com)... 142.250.200.225, 2a00:1450:4006:80d::2001\n",
      "Connecting to doc-0g-58-docs.googleusercontent.com (doc-0g-58-docs.googleusercontent.com)|142.250.200.225|:443... connected.\n",
      "HTTP request sent, awaiting response... 200 OK\n",
      "Length: 54660 (53K) [application/zip]\n",
      "Saving to: ‘/data/marciano/experiments/one-to-rule-them-all/data/heart/measures.zip’\n",
      "\n",
      "/data/marciano/expe 100%[===================>]  53.38K  --.-KB/s    in 0.02s   \n",
      "\n",
      "2023-09-18 11:21:38 (2.51 MB/s) - ‘/data/marciano/experiments/one-to-rule-them-all/data/heart/measures.zip’ saved [54660/54660]\n",
      "\n"
     ]
    }
   ],
   "source": [
    "for path in MODEL_PATHS.values():\n",
    "    download_command = get_download_model_command(file_id=path[\"id\"], file_name=path[\"name\"])\n",
    "    !{download_command}"
   ]
  },
  {
   "cell_type": "code",
   "execution_count": 12,
   "metadata": {},
   "outputs": [],
   "source": [
    "!unzip -q data/heart/training.zip -d data/heart"
   ]
  },
  {
   "cell_type": "code",
   "execution_count": 4,
   "metadata": {},
   "outputs": [],
   "source": [
    "!unzip -q data/heart/testing.zip -d data/heart"
   ]
  },
  {
   "cell_type": "code",
   "execution_count": 5,
   "metadata": {},
   "outputs": [],
   "source": [
    "!mv data/testing/testing data/heart/tmp && rm -r data/heart/testing && mv data/heart/tmp data/heart/testing"
   ]
  },
  {
   "cell_type": "code",
   "execution_count": 16,
   "metadata": {},
   "outputs": [],
   "source": [
    "!unzip -q data/heart/predictions.zip -d data/heart"
   ]
  },
  {
   "cell_type": "code",
   "execution_count": 17,
   "metadata": {},
   "outputs": [],
   "source": [
    "!unzip -q data/heart/measures.zip -d data/heart"
   ]
  },
  {
   "cell_type": "code",
   "execution_count": null,
   "metadata": {},
   "outputs": [],
   "source": []
  }
 ],
 "metadata": {
  "kernelspec": {
   "display_name": "Python 3",
   "language": "python",
   "name": "python3"
  },
  "language_info": {
   "codemirror_mode": {
    "name": "ipython",
    "version": 3
   },
   "file_extension": ".py",
   "mimetype": "text/x-python",
   "name": "python",
   "nbconvert_exporter": "python",
   "pygments_lexer": "ipython3",
   "version": "3.8.10"
  },
  "orig_nbformat": 4
 },
 "nbformat": 4,
 "nbformat_minor": 2
}
