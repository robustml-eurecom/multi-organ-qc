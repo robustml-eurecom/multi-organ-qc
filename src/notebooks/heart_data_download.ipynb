{
 "cells": [
  {
   "cell_type": "code",
   "execution_count": null,
   "metadata": {},
   "outputs": [],
   "source": [
    "%cd /data/marciano/experiments/one-to-rule-them-all/"
   ]
  },
  {
   "cell_type": "code",
   "execution_count": null,
   "metadata": {},
   "outputs": [],
   "source": [
    "import os\n",
    "\n",
    "def get_download_model_command(file_id, file_name):\n",
    "    save_path = os.getcwd()\n",
    "    url = r\"\"\"wget --load-cookies /tmp/cookies.txt \"https://docs.google.com/uc?export=download&confirm=$(wget --quiet --save-cookies /tmp/cookies.txt --keep-session-cookies --no-check-certificate 'https://docs.google.com/uc?export=download&id={FILE_ID}' -O- | sed -rn 's/.*confirm=([0-9A-Za-z_]+).*/\\1\\n/p')&id={FILE_ID}\" -O {SAVE_PATH}/{FILE_NAME} && rm -rf /tmp/cookies.txt\"\"\".format(FILE_ID=file_id, FILE_NAME=file_name, SAVE_PATH=save_path)\n",
    "    return url\n",
    "\n",
    "MODEL_PATHS = {\n",
    "    \"training\": {\"id\": \"13jEZ9a5dzrFxSofUXCiSXeMveJpyMNRI\", \"name\": \"data/heart/training.zip\"},\n",
    "    \"testing\": {\"id\": \"1r_wS2SxFxBiEfM1JXCWrzzTZcQMnJMbz\", \"name\": \"data/heart/testing.zip\"},\n",
    "    \"predictions\": {\"id\": \"1ikG9S8mzw4ZUgbnAxnm08gfBtkub1xNp\", \"name\": \"data/heart/predictions.zip\"},\n",
    "    \"measures\": {\"id\": \"1Flrl9hjbhW2Vwgd7E1mh07_yFxFOjAVT\", \"name\": \"data/heart/measures.zip\"}\n",
    "}\n",
    "\n",
    "!mkdir data/heart"
   ]
  },
  {
   "cell_type": "code",
   "execution_count": null,
   "metadata": {},
   "outputs": [],
   "source": [
    "for path in MODEL_PATHS.values():\n",
    "    download_command = get_download_model_command(file_id=path[\"id\"], file_name=path[\"name\"])\n",
    "    !{download_command}"
   ]
  },
  {
   "cell_type": "code",
   "execution_count": null,
   "metadata": {},
   "outputs": [],
   "source": [
    "!unzip -q data/heart/training.zip -d data/heart"
   ]
  },
  {
   "cell_type": "code",
   "execution_count": null,
   "metadata": {},
   "outputs": [],
   "source": [
    "!unzip -q data/heart/testing.zip -d data/heart"
   ]
  },
  {
   "cell_type": "code",
   "execution_count": null,
   "metadata": {},
   "outputs": [],
   "source": [
    "!mv data/testing/testing data/heart/tmp && rm -r data/heart/testing && mv data/heart/tmp data/heart/testing"
   ]
  },
  {
   "cell_type": "code",
   "execution_count": null,
   "metadata": {},
   "outputs": [],
   "source": [
    "!unzip -q data/heart/predictions.zip -d data/heart"
   ]
  },
  {
   "cell_type": "code",
   "execution_count": null,
   "metadata": {},
   "outputs": [],
   "source": [
    "!unzip -q data/heart/measures.zip -d data/heart"
   ]
  },
  {
   "cell_type": "code",
   "execution_count": null,
   "metadata": {},
   "outputs": [],
   "source": []
  }
 ],
 "metadata": {
  "kernelspec": {
   "display_name": "Python 3",
   "language": "python",
   "name": "python3"
  },
  "language_info": {
   "codemirror_mode": {
    "name": "ipython",
    "version": 3
   },
   "file_extension": ".py",
   "mimetype": "text/x-python",
   "name": "python",
   "nbconvert_exporter": "python",
   "pygments_lexer": "ipython3",
   "version": "3.8.10"
  },
  "orig_nbformat": 4
 },
 "nbformat": 4,
 "nbformat_minor": 2
}
