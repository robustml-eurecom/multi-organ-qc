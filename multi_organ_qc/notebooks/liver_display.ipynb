{
 "cells": [
  {
   "cell_type": "code",
   "execution_count": null,
   "metadata": {},
   "outputs": [],
   "source": [
    "!pwd"
   ]
  },
  {
   "cell_type": "code",
   "execution_count": null,
   "metadata": {},
   "outputs": [],
   "source": [
    "%cd .."
   ]
  },
  {
   "cell_type": "code",
   "execution_count": null,
   "metadata": {},
   "outputs": [],
   "source": [
    "import os\n",
    "import nibabel as nib\n",
    "import numpy as np\n",
    "import torch\n",
    "\n",
    "from utils.testing import display_image, display_difference\n",
    "\n",
    "\n",
    "DATA_PATH = 'data/liver/'\n",
    "device = torch.device(\"cuda\" if torch.cuda.is_available() else \"cpu\")"
   ]
  },
  {
   "cell_type": "code",
   "execution_count": null,
   "metadata": {},
   "outputs": [],
   "source": [
    "test_ids = np.load(os.path.join(DATA_PATH,'saved_ids.npy'), allow_pickle=True).item().get('train_ids')"
   ]
  },
  {
   "cell_type": "code",
   "execution_count": null,
   "metadata": {},
   "outputs": [],
   "source": [
    "len(test_ids)"
   ]
  },
  {
   "cell_type": "code",
   "execution_count": null,
   "metadata": {},
   "outputs": [],
   "source": [
    "for PATIENT_ID in test_ids[:50]:\n",
    "    print(f\"Selected patient is Patient N°{PATIENT_ID:03d}\")\n",
    "\n",
    "    prediction = nib.load(os.path.join(DATA_PATH, \"structured/patient{:03d}/mask.nii.gz\".format(PATIENT_ID))).get_fdata()[:,:,:].transpose(2, 1, 0)\n",
    "    #reconstruction = np.round(nib.load(os.path.join(DATA_PATH,\"reconstructions/patient{:03d}/mask.nii.gz\".format(PATIENT_ID))).get_fdata().transpose(2, 1, 0),2)\n",
    "\n",
    "    mid_frame = np.argmax([np.average(prediction[i]) for i in range (prediction.shape[0] -1 )])\n",
    "\n",
    "    display_image(prediction[mid_frame], PATIENT_ID, f'pred_patient_{PATIENT_ID:03d}.png')\n",
    "    #display_image(reconstruction[mid_frame], PATIENT_ID, f'reconst_patient_{PATIENT_ID:03d}.png')\n",
    "    #display_difference(reconstruction[mid_frame], prediction[mid_frame], PATIENT_ID, f'diff_patient_{PATIENT_ID:03d}.png')"
   ]
  },
  {
   "cell_type": "code",
   "execution_count": null,
   "metadata": {},
   "outputs": [],
   "source": [
    "for PATIENT_ID in test_ids[50:]:\n",
    "    print(f\"Selected patient is Patient N°{PATIENT_ID:03d}\")\n",
    "\n",
    "    prediction = nib.load(os.path.join(DATA_PATH, \"structured/patient{:03d}/mask.nii.gz\".format(PATIENT_ID))).get_fdata()[:,:,:].transpose(2, 1, 0)\n",
    "    #reconstruction = np.round(nib.load(os.path.join(DATA_PATH,\"reconstructions/patient{:03d}/mask.nii.gz\".format(PATIENT_ID))).get_fdata().transpose(2, 1, 0),2)\n",
    "\n",
    "    mid_frame = np.argmax([np.average(prediction[i]) for i in range (prediction.shape[0] -1 )])\n",
    "\n",
    "    display_image(prediction[mid_frame], PATIENT_ID, f'pred_patient_{PATIENT_ID:03d}.png')"
   ]
  },
  {
   "cell_type": "code",
   "execution_count": null,
   "metadata": {},
   "outputs": [],
   "source": []
  }
 ],
 "metadata": {
  "kernelspec": {
   "display_name": "medML",
   "language": "python",
   "name": "python3"
  },
  "language_info": {
   "codemirror_mode": {
    "name": "ipython",
    "version": 3
   },
   "file_extension": ".py",
   "mimetype": "text/x-python",
   "name": "python",
   "nbconvert_exporter": "python",
   "pygments_lexer": "ipython3",
   "version": "3.9.0"
  },
  "orig_nbformat": 4
 },
 "nbformat": 4,
 "nbformat_minor": 2
}
