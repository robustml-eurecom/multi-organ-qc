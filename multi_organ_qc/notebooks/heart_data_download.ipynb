{
 "cells": [
  {
   "cell_type": "code",
   "execution_count": 3,
   "metadata": {},
   "outputs": [
    {
     "name": "stdout",
     "output_type": "stream",
     "text": [
      "/home/marciano/Desktop/quality-control-segmentation/multi-organ-QC\n"
     ]
    }
   ],
   "source": [
    "%cd .."
   ]
  },
  {
   "cell_type": "code",
   "execution_count": 4,
   "metadata": {},
   "outputs": [],
   "source": [
    "import os\n",
    "\n",
    "def get_download_model_command(file_id, file_name):\n",
    "    save_path = os.getcwd()\n",
    "    url = r\"\"\"wget --load-cookies /tmp/cookies.txt \"https://docs.google.com/uc?export=download&confirm=$(wget --quiet --save-cookies /tmp/cookies.txt --keep-session-cookies --no-check-certificate 'https://docs.google.com/uc?export=download&id={FILE_ID}' -O- | sed -rn 's/.*confirm=([0-9A-Za-z_]+).*/\\1\\n/p')&id={FILE_ID}\" -O {SAVE_PATH}/{FILE_NAME} && rm -rf /tmp/cookies.txt\"\"\".format(FILE_ID=file_id, FILE_NAME=file_name, SAVE_PATH=save_path)\n",
    "    return url\n",
    "\n",
    "MODEL_PATHS = {\n",
    "    \"training\": {\"id\": \"13jEZ9a5dzrFxSofUXCiSXeMveJpyMNRI\", \"name\": \"data/heart/training.zip\"},\n",
    "    \"testing\": {\"id\": \"1r_wS2SxFxBiEfM1JXCWrzzTZcQMnJMbz\", \"name\": \"data/heart/testing.zip\"},\n",
    "    \"predictions\": {\"id\": \"1ikG9S8mzw4ZUgbnAxnm08gfBtkub1xNp\", \"name\": \"data/heart/predictions.zip\"},\n",
    "    \"measures\": {\"id\": \"1Flrl9hjbhW2Vwgd7E1mh07_yFxFOjAVT\", \"name\": \"data/heart/measures.zip\"}\n",
    "}\n",
    "\n",
    "!mkdir data/heart"
   ]
  },
  {
   "cell_type": "code",
   "execution_count": 5,
   "metadata": {},
   "outputs": [
    {
     "name": "stdout",
     "output_type": "stream",
     "text": [
      "--2023-09-22 15:14:32--  https://docs.google.com/uc?export=download&confirm=t&id=13jEZ9a5dzrFxSofUXCiSXeMveJpyMNRI\n",
      "Resolving docs.google.com (docs.google.com)... 142.250.200.238, 2a00:1450:4006:80d::200e\n",
      "Connecting to docs.google.com (docs.google.com)|142.250.200.238|:443... connected.\n",
      "HTTP request sent, awaiting response... 303 See Other\n",
      "Location: https://doc-0o-58-docs.googleusercontent.com/docs/securesc/ha0ro937gcuc7l7deffksulhg5h7mbp1/2qnrhfs5j2qqh3n2dp2tojl4uucvjuie/1695388425000/10623993580823501740/*/13jEZ9a5dzrFxSofUXCiSXeMveJpyMNRI?e=download&uuid=cd055eeb-dd86-4005-8387-02e3587b83b9 [following]\n",
      "Warning: wildcards not supported in HTTP.\n",
      "--2023-09-22 15:14:32--  https://doc-0o-58-docs.googleusercontent.com/docs/securesc/ha0ro937gcuc7l7deffksulhg5h7mbp1/2qnrhfs5j2qqh3n2dp2tojl4uucvjuie/1695388425000/10623993580823501740/*/13jEZ9a5dzrFxSofUXCiSXeMveJpyMNRI?e=download&uuid=cd055eeb-dd86-4005-8387-02e3587b83b9\n",
      "Resolving doc-0o-58-docs.googleusercontent.com (doc-0o-58-docs.googleusercontent.com)... 142.251.37.33, 2a00:1450:4006:810::2001\n",
      "Connecting to doc-0o-58-docs.googleusercontent.com (doc-0o-58-docs.googleusercontent.com)|142.251.37.33|:443... connected.\n",
      "HTTP request sent, awaiting response... 200 OK\n",
      "Length: 1629508628 (1,5G) [application/x-zip-compressed]\n",
      "Saving to: ‘/home/marciano/Desktop/quality-control-segmentation/multi-organ-QC/data/heart/training.zip’\n",
      "\n",
      "/home/marciano/Desk 100%[===================>]   1,52G  49,2MB/s    in 39s     \n",
      "\n",
      "2023-09-22 15:15:12 (39,6 MB/s) - ‘/home/marciano/Desktop/quality-control-segmentation/multi-organ-QC/data/heart/training.zip’ saved [1629508628/1629508628]\n",
      "\n",
      "--2023-09-22 15:15:13--  https://docs.google.com/uc?export=download&confirm=t&id=1r_wS2SxFxBiEfM1JXCWrzzTZcQMnJMbz\n",
      "Resolving docs.google.com (docs.google.com)... 142.250.200.238, 2a00:1450:4006:80d::200e\n",
      "Connecting to docs.google.com (docs.google.com)|142.250.200.238|:443... connected.\n",
      "HTTP request sent, awaiting response... 303 See Other\n",
      "Location: https://doc-0o-58-docs.googleusercontent.com/docs/securesc/ha0ro937gcuc7l7deffksulhg5h7mbp1/36kisd287vtbfqj1hf1fhbhetasprbb0/1695388500000/10623993580823501740/*/1r_wS2SxFxBiEfM1JXCWrzzTZcQMnJMbz?e=download&uuid=85f977f2-45b7-461c-b16c-bff6c68fa2ae [following]\n",
      "Warning: wildcards not supported in HTTP.\n",
      "--2023-09-22 15:15:13--  https://doc-0o-58-docs.googleusercontent.com/docs/securesc/ha0ro937gcuc7l7deffksulhg5h7mbp1/36kisd287vtbfqj1hf1fhbhetasprbb0/1695388500000/10623993580823501740/*/1r_wS2SxFxBiEfM1JXCWrzzTZcQMnJMbz?e=download&uuid=85f977f2-45b7-461c-b16c-bff6c68fa2ae\n",
      "Resolving doc-0o-58-docs.googleusercontent.com (doc-0o-58-docs.googleusercontent.com)... 142.251.37.33, 2a00:1450:4006:810::2001\n",
      "Connecting to doc-0o-58-docs.googleusercontent.com (doc-0o-58-docs.googleusercontent.com)|142.251.37.33|:443... connected.\n",
      "HTTP request sent, awaiting response... 200 OK\n",
      "Length: 799300064 (762M) [application/x-zip-compressed]\n",
      "Saving to: ‘/home/marciano/Desktop/quality-control-segmentation/multi-organ-QC/data/heart/testing.zip’\n",
      "\n",
      "/home/marciano/Desk 100%[===================>] 762,27M  37,5MB/s    in 19s     \n",
      "\n",
      "2023-09-22 15:15:32 (41,2 MB/s) - ‘/home/marciano/Desktop/quality-control-segmentation/multi-organ-QC/data/heart/testing.zip’ saved [799300064/799300064]\n",
      "\n",
      "--2023-09-22 15:15:54--  https://docs.google.com/uc?export=download&confirm=&id=1ikG9S8mzw4ZUgbnAxnm08gfBtkub1xNp\n",
      "Resolving docs.google.com (docs.google.com)... 142.250.200.238, 2a00:1450:4006:80d::200e\n",
      "Connecting to docs.google.com (docs.google.com)|142.250.200.238|:443... connected.\n",
      "HTTP request sent, awaiting response... 303 See Other\n",
      "Location: https://doc-0g-58-docs.googleusercontent.com/docs/securesc/ha0ro937gcuc7l7deffksulhg5h7mbp1/lottqd45m14o3mmr7utp2fap6bt3mff7/1695388575000/10623993580823501740/*/1ikG9S8mzw4ZUgbnAxnm08gfBtkub1xNp?e=download&uuid=a82c7c7a-de04-4f33-97c4-162fd0bf04ea [following]\n",
      "Warning: wildcards not supported in HTTP.\n",
      "--2023-09-22 15:16:15--  https://doc-0g-58-docs.googleusercontent.com/docs/securesc/ha0ro937gcuc7l7deffksulhg5h7mbp1/lottqd45m14o3mmr7utp2fap6bt3mff7/1695388575000/10623993580823501740/*/1ikG9S8mzw4ZUgbnAxnm08gfBtkub1xNp?e=download&uuid=a82c7c7a-de04-4f33-97c4-162fd0bf04ea\n",
      "Resolving doc-0g-58-docs.googleusercontent.com (doc-0g-58-docs.googleusercontent.com)... 142.251.37.33, 2a00:1450:4006:810::2001\n",
      "Connecting to doc-0g-58-docs.googleusercontent.com (doc-0g-58-docs.googleusercontent.com)|142.251.37.33|:443... connected.\n",
      "HTTP request sent, awaiting response... 200 OK\n",
      "Length: 3937301 (3,8M) [application/zip]\n",
      "Saving to: ‘/home/marciano/Desktop/quality-control-segmentation/multi-organ-QC/data/heart/predictions.zip’\n",
      "\n",
      "/home/marciano/Desk 100%[===================>]   3,75M  15,1MB/s    in 0,2s    \n",
      "\n",
      "2023-09-22 15:16:15 (15,1 MB/s) - ‘/home/marciano/Desktop/quality-control-segmentation/multi-organ-QC/data/heart/predictions.zip’ saved [3937301/3937301]\n",
      "\n",
      "--2023-09-22 15:16:16--  https://docs.google.com/uc?export=download&confirm=&id=1Flrl9hjbhW2Vwgd7E1mh07_yFxFOjAVT\n",
      "Resolving docs.google.com (docs.google.com)... 142.250.200.238, 2a00:1450:4006:80d::200e\n",
      "Connecting to docs.google.com (docs.google.com)|142.250.200.238|:443... connected.\n",
      "HTTP request sent, awaiting response... 303 See Other\n",
      "Location: https://doc-0g-58-docs.googleusercontent.com/docs/securesc/ha0ro937gcuc7l7deffksulhg5h7mbp1/6ru7asj5m7drntiahrar712cpbbn74v7/1695388575000/10623993580823501740/*/1Flrl9hjbhW2Vwgd7E1mh07_yFxFOjAVT?e=download&uuid=e9ca462c-3db9-4ec2-a8aa-647d00ef96d8 [following]\n",
      "Warning: wildcards not supported in HTTP.\n",
      "--2023-09-22 15:16:17--  https://doc-0g-58-docs.googleusercontent.com/docs/securesc/ha0ro937gcuc7l7deffksulhg5h7mbp1/6ru7asj5m7drntiahrar712cpbbn74v7/1695388575000/10623993580823501740/*/1Flrl9hjbhW2Vwgd7E1mh07_yFxFOjAVT?e=download&uuid=e9ca462c-3db9-4ec2-a8aa-647d00ef96d8\n",
      "Resolving doc-0g-58-docs.googleusercontent.com (doc-0g-58-docs.googleusercontent.com)... 142.251.37.33, 2a00:1450:4006:810::2001\n",
      "Connecting to doc-0g-58-docs.googleusercontent.com (doc-0g-58-docs.googleusercontent.com)|142.251.37.33|:443... connected.\n",
      "HTTP request sent, awaiting response... 200 OK\n",
      "Length: 54660 (53K) [application/zip]\n",
      "Saving to: ‘/home/marciano/Desktop/quality-control-segmentation/multi-organ-QC/data/heart/measures.zip’\n",
      "\n",
      "/home/marciano/Desk 100%[===================>]  53,38K  --.-KB/s    in 0,03s   \n",
      "\n",
      "2023-09-22 15:16:17 (1,79 MB/s) - ‘/home/marciano/Desktop/quality-control-segmentation/multi-organ-QC/data/heart/measures.zip’ saved [54660/54660]\n",
      "\n"
     ]
    }
   ],
   "source": [
    "for path in MODEL_PATHS.values():\n",
    "    download_command = get_download_model_command(file_id=path[\"id\"], file_name=path[\"name\"])\n",
    "    !{download_command}"
   ]
  },
  {
   "cell_type": "code",
   "execution_count": 6,
   "metadata": {},
   "outputs": [],
   "source": [
    "!unzip -q data/heart/training.zip -d data/heart"
   ]
  },
  {
   "cell_type": "code",
   "execution_count": 7,
   "metadata": {},
   "outputs": [],
   "source": [
    "!unzip -q data/heart/testing.zip -d data/heart"
   ]
  },
  {
   "cell_type": "code",
   "execution_count": 9,
   "metadata": {},
   "outputs": [],
   "source": [
    "!mv data/heart/testing/testing data/heart/tmp && rm -r data/heart/testing && mv data/heart/tmp data/heart/testing"
   ]
  },
  {
   "cell_type": "code",
   "execution_count": null,
   "metadata": {},
   "outputs": [],
   "source": [
    "!unzip -q data/heart/predictions.zip -d data/heart"
   ]
  },
  {
   "cell_type": "code",
   "execution_count": null,
   "metadata": {},
   "outputs": [],
   "source": [
    "!unzip -q data/heart/measures.zip -d data/heart"
   ]
  },
  {
   "cell_type": "code",
   "execution_count": null,
   "metadata": {},
   "outputs": [],
   "source": []
  }
 ],
 "metadata": {
  "kernelspec": {
   "display_name": "Python 3",
   "language": "python",
   "name": "python3"
  },
  "language_info": {
   "codemirror_mode": {
    "name": "ipython",
    "version": 3
   },
   "file_extension": ".py",
   "mimetype": "text/x-python",
   "name": "python",
   "nbconvert_exporter": "python",
   "pygments_lexer": "ipython3",
   "version": "3.9.0"
  },
  "orig_nbformat": 4
 },
 "nbformat": 4,
 "nbformat_minor": 2
}
