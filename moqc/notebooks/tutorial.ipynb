{
 "cells": [
  {
   "cell_type": "markdown",
   "metadata": {},
   "source": [
    "# MOQC: a comprehensive tutorial"
   ]
  },
  {
   "cell_type": "markdown",
   "metadata": {},
   "source": []
  },
  {
   "cell_type": "code",
   "execution_count": null,
   "metadata": {},
   "outputs": [],
   "source": [
    "%cd /data/marciano/experiments/multi-organ-qc/moqc"
   ]
  },
  {
   "cell_type": "code",
   "execution_count": null,
   "metadata": {},
   "outputs": [],
   "source": [
    "import pandas as pd\n",
    "import numpy as np\n",
    "import os\n",
    "import nibabel as nib\n",
    "from utils.common import Visualizer\n",
    "from utils.dataset import select_valid_imgs, remove_non_common_files"
   ]
  },
  {
   "cell_type": "code",
   "execution_count": null,
   "metadata": {},
   "outputs": [],
   "source": [
    "rand_img = nib.load(f'/data/marciano/experiments/multi-organ-qc/MSD_data/Task01_BrainTumour/labelsTr/BRATS_001.nii.gz').get_fdata().transpose(2, 0, 1)\n",
    "rand_img.shape"
   ]
  },
  {
   "cell_type": "code",
   "execution_count": null,
   "metadata": {},
   "outputs": [],
   "source": [
    "viz = Visualizer(rand_img=rand_img)\n",
    "viz.plot_3d()"
   ]
  },
  {
   "cell_type": "code",
   "execution_count": null,
   "metadata": {},
   "outputs": [],
   "source": [
    "label_path = '/data/marciano/experiments/multi-organ-qc/MSD_data/Task01_BrainTumour/labelsTr/'\n",
    "labsave = '/data/marciano/experiments/multi-organ-qc/data/brain/labels'\n",
    "select_valid_imgs(label_path, labsave, inter_slice_range=[50, 120], non_zero_thres=0.005)\n",
    "\n",
    "segpath = '/data/marciano/experiments/multi-organ-qc/nnUnet_seg/brain/Tr/'\n",
    "segsave = '/data/marciano/experiments/multi-organ-qc/data/brain/nnunet/segmentations'\n",
    "select_valid_imgs(segpath, segsave, inter_slice_range=[50, 120], non_zero_thres=0.005)"
   ]
  },
  {
   "cell_type": "code",
   "execution_count": null,
   "metadata": {},
   "outputs": [],
   "source": [
    "remove_non_common_files(labsave, segsave)"
   ]
  },
  {
   "cell_type": "code",
   "execution_count": null,
   "metadata": {},
   "outputs": [],
   "source": [
    "assert len(os.listdir(labsave)) == len(os.listdir(segsave))\n",
    "assert os.listdir(labsave).sort() == os.listdir(segsave).sort()"
   ]
  },
  {
   "cell_type": "code",
   "execution_count": null,
   "metadata": {},
   "outputs": [],
   "source": [
    "%cd /data/marciano/experiments/multi-organ-qc"
   ]
  },
  {
   "cell_type": "code",
   "execution_count": null,
   "metadata": {},
   "outputs": [],
   "source": [
    "!python moqc/data_preparation.py -og prostate -k ['prostate']\n",
    "!python moqc/data_preparation.py -d data/prostate/nnunet/ -mf -segmentations -og '' --k ['prostate']"
   ]
  },
  {
   "cell_type": "code",
   "execution_count": null,
   "metadata": {},
   "outputs": [],
   "source": [
    "!python moqc/train.py -og prostate --model small_cae"
   ]
  },
  {
   "cell_type": "code",
   "execution_count": null,
   "metadata": {},
   "outputs": [],
   "source": [
    "!python moqc/test.py -og prostate -m small_cae"
   ]
  },
  {
   "cell_type": "code",
   "execution_count": null,
   "metadata": {},
   "outputs": [],
   "source": [
    "!python moqc/evaluate.py -og prostate -m small_cae -seg nnunet -l -c"
   ]
  }
 ],
 "metadata": {
  "kernelspec": {
   "display_name": "FORE",
   "language": "python",
   "name": "python3"
  },
  "language_info": {
   "codemirror_mode": {
    "name": "ipython",
    "version": 3
   },
   "file_extension": ".py",
   "mimetype": "text/x-python",
   "name": "python",
   "nbconvert_exporter": "python",
   "pygments_lexer": "ipython3",
   "version": "3.8.10"
  }
 },
 "nbformat": 4,
 "nbformat_minor": 2
}
