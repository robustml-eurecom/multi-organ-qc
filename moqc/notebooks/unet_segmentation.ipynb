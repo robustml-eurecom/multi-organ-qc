{
 "cells": [
  {
   "cell_type": "code",
   "execution_count": 1,
   "metadata": {},
   "outputs": [
    {
     "name": "stdout",
     "output_type": "stream",
     "text": [
      "/data/marciano/experiments/multi-organ-qc/moqc\n"
     ]
    }
   ],
   "source": [
    "%cd .."
   ]
  },
  {
   "cell_type": "code",
   "execution_count": 2,
   "metadata": {},
   "outputs": [
    {
     "name": "stdout",
     "output_type": "stream",
     "text": [
      "/data/marciano/experiments/multi-organ-qc\n"
     ]
    }
   ],
   "source": [
    "%cd .."
   ]
  },
  {
   "cell_type": "code",
   "execution_count": 3,
   "metadata": {},
   "outputs": [
    {
     "name": "stderr",
     "output_type": "stream",
     "text": [
      "IProgress not found. Please update jupyter and ipywidgets. See https://ipywidgets.readthedocs.io/en/stable/user_install.html\n"
     ]
    }
   ],
   "source": [
    "import monai\n",
    "from monai.transforms.compose import Compose\n",
    "from monai.transforms import (\n",
    "    Compose,\n",
    "    EnsureChannelFirstd,\n",
    "    EnsureTyped,\n",
    "    LoadImaged,\n",
    "    RandRotate90d,\n",
    "    Resized,\n",
    "    ScaleIntensityd,\n",
    "    SqueezeDimd,\n",
    "    ResizeWithPadOrCropd,\n",
    "    CenterSpatialCropd,\n",
    ")\n",
    "\n",
    "from monai.apps import DecathlonDataset\n",
    "from monai.data import DataLoader, PatchDataset, create_test_image_3d\n",
    "\n",
    "import torch\n",
    "import torch.nn.functional as F\n",
    "\n",
    "import matplotlib.pyplot as plt\n",
    "import seaborn as sns\n",
    "\n",
    "\n",
    "sns.set()\n",
    "plt.rcParams[\"figure.figsize\"] = 12, 8\n",
    "monai.utils.set_determinism()"
   ]
  },
  {
   "cell_type": "code",
   "execution_count": 4,
   "metadata": {},
   "outputs": [],
   "source": [
    "device = torch.device(\"cuda:0\" if torch.cuda.is_available() else \"cpu\")"
   ]
  },
  {
   "cell_type": "code",
   "execution_count": 5,
   "metadata": {},
   "outputs": [],
   "source": [
    "root_dir = \"MSD_data\""
   ]
  },
  {
   "cell_type": "code",
   "execution_count": 6,
   "metadata": {},
   "outputs": [
    {
     "name": "stderr",
     "output_type": "stream",
     "text": [
      "monai.transforms.io.dictionary LoadImaged.__init__:image_only: Current default value of argument `image_only=False` has been deprecated since version 1.1. It will be changed to `image_only=True` in version 1.3.\n",
      "Loading dataset:   0%|          | 0/208 [00:00<?, ?it/s]"
     ]
    },
    {
     "name": "stderr",
     "output_type": "stream",
     "text": [
      "Loading dataset: 100%|██████████| 208/208 [00:00<00:00, 233.45it/s]\n"
     ]
    }
   ],
   "source": [
    "transforms = Compose(\n",
    "    [\n",
    "        LoadImaged(keys=[\"image\", \"label\"]),\n",
    "        EnsureChannelFirstd(keys=[\"image\", \"label\"]),\n",
    "        ScaleIntensityd(keys=\"image\"),\n",
    "        RandRotate90d(keys=[\"image\", \"label\"], prob=0.5, spatial_axes=[0, 2]),\n",
    "        EnsureTyped(keys=[\"image\", \"label\"]),\n",
    "    ]\n",
    ")\n",
    "\n",
    "# available options are: ['Task01_BrainTumour', 'Task02_Heart', \n",
    "# 'Task03_Liver', 'Task04_Hippocampus', 'Task05_Prostate', 'Task06_Lung', \n",
    "# 'Task07_Pancreas', 'Task08_HepaticVessel', 'Task09_Spleen', 'Task10_Colon']\n",
    "volume_ds = DecathlonDataset(\n",
    "    root_dir=root_dir, task=\"Task04_Hippocampus\", transform=transforms, section=\"training\", seed=12345, download=False\n",
    ")"
   ]
  },
  {
   "cell_type": "code",
   "execution_count": 7,
   "metadata": {},
   "outputs": [
    {
     "name": "stdout",
     "output_type": "stream",
     "text": [
      "first volume's shape:  torch.Size([1, 1, 40, 48, 34]) torch.Size([1, 1, 40, 48, 34])\n"
     ]
    }
   ],
   "source": [
    "check_loader = DataLoader(volume_ds, batch_size=1, pin_memory=torch.cuda.is_available(), num_workers=8)\n",
    "check_data = monai.utils.misc.first(check_loader)\n",
    "print(\"first volume's shape: \", check_data[\"image\"].shape, check_data[\"label\"].shape)"
   ]
  },
  {
   "cell_type": "code",
   "execution_count": 8,
   "metadata": {},
   "outputs": [
    {
     "data": {
      "text/plain": [
       "array([0., 1., 2.], dtype=float32)"
      ]
     },
     "execution_count": 8,
     "metadata": {},
     "output_type": "execute_result"
    }
   ],
   "source": [
    "import numpy as np\n",
    "np.unique(check_data[\"label\"])"
   ]
  },
  {
   "cell_type": "code",
   "execution_count": 9,
   "metadata": {},
   "outputs": [
    {
     "name": "stdout",
     "output_type": "stream",
     "text": [
      "first patch's shape:  torch.Size([8, 1, 256, 256]) torch.Size([8, 1, 256, 256])\n"
     ]
    }
   ],
   "source": [
    "num_samples = 4\n",
    "patch_func = monai.transforms.RandSpatialCropSamplesd(\n",
    "    keys=[\"image\", \"label\"],\n",
    "    roi_size=[-1, -1, 1],  # dynamic spatial_size for the first two dimensions\n",
    "    num_samples=num_samples,\n",
    "    random_size=False,\n",
    ")\n",
    "\n",
    "patch_transform = Compose(\n",
    "    [\n",
    "        SqueezeDimd(keys=[\"image\", \"label\"], dim=-1),  # squeeze the last dim\n",
    "        Resized(keys=[\"image\", \"label\"], spatial_size=[256, 256]),\n",
    "        # to use crop/pad instead of resize:\n",
    "        #ResizeWithPadOrCropd(keys=[\"image\", \"label\"], spatial_size=[256, 256], mode=\"replicate\"),\n",
    "        \n",
    "    ]\n",
    ")\n",
    "patch_ds = PatchDataset(\n",
    "    volume_ds,\n",
    "    transform=patch_transform,\n",
    "    patch_func=patch_func,\n",
    "    samples_per_image=num_samples,\n",
    ")\n",
    "train_loader = DataLoader(\n",
    "    patch_ds,\n",
    "    batch_size=8,\n",
    "    shuffle=True,  # this shuffles slices from different volumes\n",
    "    num_workers=8,\n",
    "    pin_memory=torch.cuda.is_available(),\n",
    ")\n",
    "\n",
    "check_data = monai.utils.misc.first(train_loader)\n",
    "print(\"first patch's shape: \", check_data[\"image\"].shape, check_data[\"label\"].shape)"
   ]
  },
  {
   "cell_type": "code",
   "execution_count": 10,
   "metadata": {},
   "outputs": [
    {
     "name": "stdout",
     "output_type": "stream",
     "text": [
      "more than 2 classes in the label [0.   0.25 0.5  0.75 1.   1.5  2.  ] 0\n",
      "more than 2 classes in the label [0.   0.25 0.5  0.75 1.   1.5  2.  ] 1\n",
      "more than 2 classes in the label [0.   0.25 0.5  0.75 1.   1.5  2.  ] 2\n",
      "more than 2 classes in the label [0.   0.25 0.5  0.75 1.   1.5  2.  ] 3\n",
      "more than 2 classes in the label [0.   0.25 0.5  0.75 1.   1.5  2.  ] 4\n",
      "more than 2 classes in the label [0.   0.25 0.5  0.75 1.   1.5  2.  ] 5\n",
      "more than 2 classes in the label [0.   0.25 0.5  0.75 1.   1.25 1.5  2.  ] 6\n",
      "more than 2 classes in the label [0.   0.25 0.5  0.75 1.   1.5  2.  ] 7\n",
      "more than 2 classes in the label [0.   0.25 0.5  0.75 1.   1.25 1.5  2.  ] 8\n",
      "more than 2 classes in the label [0.   0.25 0.5  0.75 1.   1.5  2.  ] 9\n",
      "more than 2 classes in the label [0.   0.25 0.5  0.75 1.   1.5  2.  ] 10\n",
      "more than 2 classes in the label [0.   0.25 0.5  0.75 1.   1.25 1.5  2.  ] 11\n",
      "more than 2 classes in the label [0.   0.25 0.5  0.75 1.   1.5  2.  ] 12\n",
      "more than 2 classes in the label [0.   0.25 0.5  0.75 1.   1.25 1.5  2.  ] 13\n",
      "more than 2 classes in the label [0.   0.25 0.5  0.75 1.   1.5  2.  ] 14\n",
      "more than 2 classes in the label [0.   0.25 0.5  0.75 1.   1.5  2.  ] 15\n",
      "more than 2 classes in the label [0.   0.25 0.5  0.75 1.   1.5  2.  ] 16\n",
      "more than 2 classes in the label [0.   0.25 0.5  0.75 1.   1.25 1.5  1.75 2.  ] 17\n",
      "more than 2 classes in the label [0.   0.25 0.5  0.75 1.   1.25 1.5  2.  ] 18\n",
      "more than 2 classes in the label [0.   0.25 0.5  0.75 1.   1.5  2.  ] 19\n",
      "more than 2 classes in the label [0.   0.25 0.5  0.75 1.   1.25 1.5  2.  ] 20\n",
      "more than 2 classes in the label [0.   0.25 0.5  0.75 1.   1.5  2.  ] 21\n",
      "more than 2 classes in the label [0.   0.25 0.5  0.75 1.   1.5  2.  ] 22\n",
      "more than 2 classes in the label [0.   0.25 0.5  0.75 1.   1.25 1.5  1.75 2.  ] 23\n",
      "more than 2 classes in the label [0.   0.25 0.5  0.75 1.   1.5  2.  ] 24\n",
      "more than 2 classes in the label [0.   0.25 0.5  0.75 1.   1.25 1.5  1.75 2.  ] 25\n",
      "more than 2 classes in the label [0.   0.25 0.5  0.75 1.   1.5  2.  ] 26\n",
      "more than 2 classes in the label [0.   0.25 0.5  0.75 1.   1.25 1.5  2.  ] 27\n",
      "more than 2 classes in the label [0.   0.25 0.5  0.75 1.   1.25 1.5  1.75 2.  ] 28\n",
      "more than 2 classes in the label [0.   0.25 0.5  0.75 1.   1.25 1.5  2.  ] 29\n",
      "more than 2 classes in the label [0.   0.25 0.5  0.75 1.   1.5  2.  ] 30\n",
      "more than 2 classes in the label [0.   0.25 0.5  0.75 1.   1.25 1.5  2.  ] 31\n",
      "more than 2 classes in the label [0.   0.25 0.5  0.75 1.   1.25 1.5  2.  ] 32\n",
      "more than 2 classes in the label [0.   0.25 0.5  0.75 1.   1.5  2.  ] 33\n",
      "more than 2 classes in the label [0.   0.25 0.5  0.75 1.   1.25 1.5  2.  ] 34\n",
      "more than 2 classes in the label [0.   0.25 0.5  0.75 1.   1.5  2.  ] 35\n",
      "more than 2 classes in the label [0.   0.25 0.5  0.75 1.   1.25 1.5  2.  ] 36\n",
      "more than 2 classes in the label [0.   0.25 0.5  0.75 1.   1.5  2.  ] 37\n",
      "more than 2 classes in the label [0.   0.25 0.5  0.75 1.   1.25 1.5  1.75 2.  ] 38\n",
      "more than 2 classes in the label [0.   0.25 0.5  0.75 1.   1.5  2.  ] 39\n",
      "more than 2 classes in the label [0.   0.25 0.5  0.75 1.   1.5  2.  ] 40\n",
      "more than 2 classes in the label [0.   0.25 0.5  0.75 1.   1.5  2.  ] 41\n",
      "more than 2 classes in the label [0.   0.25 0.5  0.75 1.   1.25 1.5  1.75 2.  ] 42\n",
      "more than 2 classes in the label [0.   0.25 0.5  0.75 1.   1.5  2.  ] 43\n",
      "more than 2 classes in the label [0.   0.25 0.5  0.75 1.   1.25 1.5  2.  ] 44\n",
      "more than 2 classes in the label [0.   0.25 0.5  0.75 1.   1.5  2.  ] 45\n",
      "more than 2 classes in the label [0.   0.25 0.5  0.75 1.   1.25 1.5  2.  ] 46\n",
      "more than 2 classes in the label [0.   0.25 0.5  0.75 1.   1.25 1.5  2.  ] 47\n",
      "more than 2 classes in the label [0.   0.25 0.5  0.75 1.   1.5  2.  ] 48\n",
      "more than 2 classes in the label [0.   0.25 0.5  0.75 1.   1.25 1.5  2.  ] 49\n",
      "more than 2 classes in the label [0.   0.25 0.5  0.75 1.   1.25 1.5  2.  ] 50\n",
      "more than 2 classes in the label [0.   0.25 0.5  0.75 1.   1.25 1.5  1.75 2.  ] 51\n",
      "more than 2 classes in the label [0.   0.25 0.5  0.75 1.   1.25 1.5  2.  ] 52\n",
      "more than 2 classes in the label [0.   0.25 0.5  0.75 1.   1.25 1.5  2.  ] 53\n",
      "more than 2 classes in the label [0.   0.25 0.5  0.75 1.   1.25 1.5  2.  ] 54\n",
      "more than 2 classes in the label [0.   0.25 0.5  0.75 1.   1.25 1.5  2.  ] 55\n",
      "more than 2 classes in the label [0.   0.25 0.5  0.75 1.   1.25 1.5  1.75 2.  ] 56\n",
      "more than 2 classes in the label [0.   0.25 0.5  0.75 1.   1.25 1.5  2.  ] 57\n",
      "more than 2 classes in the label [0.   0.25 0.5  0.75 1.   1.5  2.  ] 58\n",
      "more than 2 classes in the label [0.   0.25 0.5  0.75 1.   1.5  2.  ] 59\n",
      "more than 2 classes in the label [0.   0.25 0.5  0.75 1.   1.5  2.  ] 60\n",
      "more than 2 classes in the label [0.   0.25 0.5  0.75 1.   1.5  2.  ] 61\n",
      "more than 2 classes in the label [0.   0.25 0.5  0.75 1.   1.5  2.  ] 62\n",
      "more than 2 classes in the label [0.   0.25 0.5  0.75 1.   1.5  2.  ] 63\n",
      "more than 2 classes in the label [0.   0.25 0.5  0.75 1.   1.25 1.5  2.  ] 64\n",
      "more than 2 classes in the label [0.   0.25 0.5  0.75 1.   1.25 1.5  2.  ] 65\n",
      "more than 2 classes in the label [0.   0.25 0.5  0.75 1.   1.5  2.  ] 66\n",
      "more than 2 classes in the label [0.   0.25 0.5  0.75 1.   1.25 1.5  2.  ] 67\n",
      "more than 2 classes in the label [0.   0.25 0.5  0.75 1.   1.25 1.5  2.  ] 68\n",
      "more than 2 classes in the label [0.   0.25 0.5  0.75 1.   1.5  2.  ] 69\n",
      "more than 2 classes in the label [0.   0.25 0.5  0.75 1.   1.5  2.  ] 70\n",
      "more than 2 classes in the label [0.   0.25 0.5  0.75 1.   1.25 1.5  1.75 2.  ] 71\n",
      "more than 2 classes in the label [0.   0.25 0.5  0.75 1.   1.5  2.  ] 72\n",
      "more than 2 classes in the label [0.   0.25 0.5  0.75 1.   1.25 1.5  2.  ] 73\n",
      "more than 2 classes in the label [0.   0.25 0.5  0.75 1.   1.5  2.  ] 74\n",
      "more than 2 classes in the label [0.   0.25 0.5  0.75 1.   1.25 1.5  2.  ] 75\n",
      "more than 2 classes in the label [0.   0.25 0.5  0.75 1.   1.25 1.5  2.  ] 76\n",
      "more than 2 classes in the label [0.   0.25 0.5  0.75 1.   1.5  2.  ] 77\n",
      "more than 2 classes in the label [0.   0.25 0.5  0.75 1.   1.25 1.5  2.  ] 78\n",
      "more than 2 classes in the label [0.   0.25 0.5  0.75 1.   1.5  2.  ] 79\n",
      "more than 2 classes in the label [0.   0.25 0.5  0.75 1.   1.25 1.5  2.  ] 80\n",
      "more than 2 classes in the label [0.   0.25 0.5  0.75 1.   1.25 1.5  1.75 2.  ] 81\n",
      "more than 2 classes in the label [0.   0.25 0.5  0.75 1.   1.25 1.5  2.  ] 82\n",
      "more than 2 classes in the label [0.   0.25 0.5  0.75 1.   1.25 1.5  2.  ] 83\n",
      "more than 2 classes in the label [0.   0.25 0.5  0.75 1.   1.25 1.5  1.75 2.  ] 84\n",
      "more than 2 classes in the label [0.   0.25 0.5  0.75 1.   1.25 1.5  2.  ] 85\n",
      "more than 2 classes in the label [0.   0.25 0.5  0.75 1.   1.25 1.5  2.  ] 86\n",
      "more than 2 classes in the label [0.   0.25 0.5  0.75 1.   1.25 1.5  2.  ] 87\n",
      "more than 2 classes in the label [0.   0.25 0.5  0.75 1.   1.5  2.  ] 88\n",
      "more than 2 classes in the label [0.   0.25 0.5  0.75 1.   1.5  2.  ] 89\n",
      "more than 2 classes in the label [0.   0.25 0.5  0.75 1.   1.25 1.5  1.75 2.  ] 90\n",
      "more than 2 classes in the label [0.   0.25 0.5  0.75 1.   1.5  2.  ] 91\n",
      "more than 2 classes in the label [0.   0.25 0.5  0.75 1.   1.25 1.5  2.  ] 92\n",
      "more than 2 classes in the label [0.   0.25 0.5  0.75 1.   1.25 1.5  2.  ] 93\n",
      "more than 2 classes in the label [0.   0.25 0.5  0.75 1.   1.25 1.5  1.75 2.  ] 94\n",
      "more than 2 classes in the label [0.   0.25 0.5  0.75 1.   1.5  2.  ] 95\n",
      "more than 2 classes in the label [0.   0.25 0.5  0.75 1.   1.5  2.  ] 96\n",
      "more than 2 classes in the label [0.   0.25 0.5  0.75 1.   1.5  2.  ] 97\n",
      "more than 2 classes in the label [0.   0.25 0.5  0.75 1.   1.25 1.5  2.  ] 98\n",
      "more than 2 classes in the label [0.   0.25 0.5  0.75 1.   1.5  2.  ] 99\n",
      "more than 2 classes in the label [0.   0.25 0.5  0.75 1.   1.5  2.  ] 100\n",
      "more than 2 classes in the label [0.   0.25 0.5  0.75 1.   1.5  2.  ] 101\n",
      "more than 2 classes in the label [0.   0.25 0.5  0.75 1.   1.5  2.  ] 102\n",
      "more than 2 classes in the label [0.   0.25 0.5  0.75 1.   1.25 1.5  2.  ] 103\n"
     ]
    }
   ],
   "source": [
    "for i, batch in enumerate(train_loader): \n",
    "    if len(np.unique(batch[\"label\"])) > 2: \n",
    "        print(\"more than 2 classes in the label\", np.unique(batch[\"label\"]), i)"
   ]
  },
  {
   "cell_type": "code",
   "execution_count": 11,
   "metadata": {},
   "outputs": [
    {
     "data": {
      "image/png": "[encoded data removed]",
      "text/plain": [
       "<Figure size 1200x800 with 1 Axes>"
      ]
     },
     "metadata": {},
     "output_type": "display_data"
    }
   ],
   "source": [
    "plt.imshow(check_data[\"label\"][6].squeeze(), cmap=\"gray\")\n",
    "plt.show()"
   ]
  },
  {
   "cell_type": "code",
   "execution_count": 12,
   "metadata": {},
   "outputs": [],
   "source": [
    "unet = monai.networks.nets.UNet(\n",
    "    spatial_dims=2,\n",
    "    in_channels=2,\n",
    "    out_channels=3,\n",
    "    channels=(32, 32, 64, 64, 128, 128, 512),\n",
    "    strides=(2, 1, 2, 1, 2, 1)\n",
    ").to(device)\n",
    "\n",
    "swin_net = monai.networks.nets.SwinUNETR(\n",
    "    img_size=(256,256), \n",
    "    in_channels=1, \n",
    "    out_channels=3, \n",
    "    use_checkpoint=True, \n",
    "    spatial_dims=2\n",
    ").to(device)"
   ]
  },
  {
   "cell_type": "code",
   "execution_count": 13,
   "metadata": {},
   "outputs": [
    {
     "name": "stdout",
     "output_type": "stream",
     "text": [
      "----------\n",
      "epoch 1/100\n",
      "25/104, train_loss: 0.7864\n",
      "50/104, train_loss: 0.8072\n",
      "75/104, train_loss: 0.8008\n",
      "100/104, train_loss: 0.7856\n",
      "epoch 1 average loss: 0.7906\n",
      "----------\n",
      "epoch 2/100\n",
      "25/104, train_loss: 0.7783\n",
      "50/104, train_loss: 0.7930\n",
      "75/104, train_loss: 0.7843\n",
      "100/104, train_loss: 0.7894\n",
      "epoch 2 average loss: 0.7904\n",
      "----------\n",
      "epoch 3/100\n",
      "25/104, train_loss: 0.7978\n",
      "50/104, train_loss: 0.8034\n",
      "75/104, train_loss: 0.8062\n",
      "100/104, train_loss: 0.7866\n",
      "epoch 3 average loss: 0.7906\n",
      "----------\n",
      "epoch 4/100\n",
      "25/104, train_loss: 0.7941\n",
      "50/104, train_loss: 0.8014\n",
      "75/104, train_loss: 0.7935\n",
      "100/104, train_loss: 0.7856\n",
      "epoch 4 average loss: 0.7919\n",
      "----------\n",
      "epoch 5/100\n",
      "25/104, train_loss: 0.7866\n",
      "50/104, train_loss: 0.7904\n",
      "75/104, train_loss: 0.8020\n",
      "100/104, train_loss: 0.7851\n",
      "epoch 5 average loss: 0.7929\n",
      "----------\n",
      "epoch 6/100\n",
      "25/104, train_loss: 0.7790\n",
      "50/104, train_loss: 0.8007\n",
      "75/104, train_loss: 0.7897\n",
      "100/104, train_loss: 0.7843\n",
      "epoch 6 average loss: 0.7915\n",
      "----------\n",
      "epoch 7/100\n",
      "25/104, train_loss: 0.7953\n",
      "50/104, train_loss: 0.7925\n",
      "75/104, train_loss: 0.7824\n",
      "100/104, train_loss: 0.7833\n",
      "epoch 7 average loss: 0.7900\n",
      "----------\n",
      "epoch 8/100\n",
      "25/104, train_loss: 0.7706\n",
      "50/104, train_loss: 0.7999\n",
      "75/104, train_loss: 0.7841\n",
      "100/104, train_loss: 0.7736\n",
      "epoch 8 average loss: 0.7907\n",
      "----------\n",
      "epoch 9/100\n",
      "25/104, train_loss: 0.7916\n",
      "50/104, train_loss: 0.7880\n",
      "75/104, train_loss: 0.7983\n",
      "100/104, train_loss: 0.7874\n",
      "epoch 9 average loss: 0.7915\n",
      "----------\n",
      "epoch 10/100\n",
      "25/104, train_loss: 0.7923\n",
      "50/104, train_loss: 0.7994\n",
      "75/104, train_loss: 0.8027\n",
      "100/104, train_loss: 0.7833\n",
      "epoch 10 average loss: 0.7911\n",
      "----------\n",
      "epoch 11/100\n",
      "25/104, train_loss: 0.8010\n",
      "50/104, train_loss: 0.7899\n",
      "75/104, train_loss: 0.7961\n"
     ]
    },
    {
     "ename": "KeyboardInterrupt",
     "evalue": "",
     "output_type": "error",
     "traceback": [
      "\u001b[0;31m---------------------------------------------------------------------------\u001b[0m",
      "\u001b[0;31mKeyboardInterrupt\u001b[0m                         Traceback (most recent call last)",
      "\u001b[1;32m/data/marciano/experiments/multi-organ-qc/moqc/notebooks/unet_segmentation.ipynb Cell 13\u001b[0m line \u001b[0;36m1\n\u001b[1;32m     <a href='vscode-notebook-cell://ssh-remote%2Bmagnolia/data/marciano/experiments/multi-organ-qc/moqc/notebooks/unet_segmentation.ipynb#X15sdnNjb2RlLXJlbW90ZQ%3D%3D?line=13'>14</a>\u001b[0m optimizer\u001b[39m.\u001b[39mzero_grad()\n\u001b[1;32m     <a href='vscode-notebook-cell://ssh-remote%2Bmagnolia/data/marciano/experiments/multi-organ-qc/moqc/notebooks/unet_segmentation.ipynb#X15sdnNjb2RlLXJlbW90ZQ%3D%3D?line=14'>15</a>\u001b[0m labels \u001b[39m=\u001b[39m F\u001b[39m.\u001b[39mone_hot(torch\u001b[39m.\u001b[39mtensor(labels)\u001b[39m.\u001b[39mto(device)\u001b[39m.\u001b[39mlong(), num_classes\u001b[39m=\u001b[39m\u001b[39m3\u001b[39m)\u001b[39m.\u001b[39msqueeze()\u001b[39m.\u001b[39mtranspose(\u001b[39m1\u001b[39m, \u001b[39m3\u001b[39m)\n\u001b[0;32m---> <a href='vscode-notebook-cell://ssh-remote%2Bmagnolia/data/marciano/experiments/multi-organ-qc/moqc/notebooks/unet_segmentation.ipynb#X15sdnNjb2RlLXJlbW90ZQ%3D%3D?line=15'>16</a>\u001b[0m outputs \u001b[39m=\u001b[39m swin_net(inputs)\u001b[39m.\u001b[39mto(device)\n\u001b[1;32m     <a href='vscode-notebook-cell://ssh-remote%2Bmagnolia/data/marciano/experiments/multi-organ-qc/moqc/notebooks/unet_segmentation.ipynb#X15sdnNjb2RlLXJlbW90ZQ%3D%3D?line=16'>17</a>\u001b[0m loss \u001b[39m=\u001b[39m loss_DC(outputs, labels)\n\u001b[1;32m     <a href='vscode-notebook-cell://ssh-remote%2Bmagnolia/data/marciano/experiments/multi-organ-qc/moqc/notebooks/unet_segmentation.ipynb#X15sdnNjb2RlLXJlbW90ZQ%3D%3D?line=17'>18</a>\u001b[0m loss\u001b[39m.\u001b[39mbackward()\n",
      "File \u001b[0;32m/data/marciano/my_envs/FORE/lib/python3.8/site-packages/torch/nn/modules/module.py:1501\u001b[0m, in \u001b[0;36mModule._call_impl\u001b[0;34m(self, *args, **kwargs)\u001b[0m\n\u001b[1;32m   1496\u001b[0m \u001b[39m# If we don't have any hooks, we want to skip the rest of the logic in\u001b[39;00m\n\u001b[1;32m   1497\u001b[0m \u001b[39m# this function, and just call forward.\u001b[39;00m\n\u001b[1;32m   1498\u001b[0m \u001b[39mif\u001b[39;00m \u001b[39mnot\u001b[39;00m (\u001b[39mself\u001b[39m\u001b[39m.\u001b[39m_backward_hooks \u001b[39mor\u001b[39;00m \u001b[39mself\u001b[39m\u001b[39m.\u001b[39m_backward_pre_hooks \u001b[39mor\u001b[39;00m \u001b[39mself\u001b[39m\u001b[39m.\u001b[39m_forward_hooks \u001b[39mor\u001b[39;00m \u001b[39mself\u001b[39m\u001b[39m.\u001b[39m_forward_pre_hooks\n\u001b[1;32m   1499\u001b[0m         \u001b[39mor\u001b[39;00m _global_backward_pre_hooks \u001b[39mor\u001b[39;00m _global_backward_hooks\n\u001b[1;32m   1500\u001b[0m         \u001b[39mor\u001b[39;00m _global_forward_hooks \u001b[39mor\u001b[39;00m _global_forward_pre_hooks):\n\u001b[0;32m-> 1501\u001b[0m     \u001b[39mreturn\u001b[39;00m forward_call(\u001b[39m*\u001b[39;49margs, \u001b[39m*\u001b[39;49m\u001b[39m*\u001b[39;49mkwargs)\n\u001b[1;32m   1502\u001b[0m \u001b[39m# Do not call functions when jit is used\u001b[39;00m\n\u001b[1;32m   1503\u001b[0m full_backward_hooks, non_full_backward_hooks \u001b[39m=\u001b[39m [], []\n",
      "File \u001b[0;32m/data/marciano/my_envs/FORE/lib/python3.8/site-packages/monai/networks/nets/swin_unetr.py:301\u001b[0m, in \u001b[0;36mSwinUNETR.forward\u001b[0;34m(self, x_in)\u001b[0m\n\u001b[1;32m    300\u001b[0m \u001b[39mdef\u001b[39;00m \u001b[39mforward\u001b[39m(\u001b[39mself\u001b[39m, x_in):\n\u001b[0;32m--> 301\u001b[0m     hidden_states_out \u001b[39m=\u001b[39m \u001b[39mself\u001b[39;49m\u001b[39m.\u001b[39;49mswinViT(x_in, \u001b[39mself\u001b[39;49m\u001b[39m.\u001b[39;49mnormalize)\n\u001b[1;32m    302\u001b[0m     enc0 \u001b[39m=\u001b[39m \u001b[39mself\u001b[39m\u001b[39m.\u001b[39mencoder1(x_in)\n\u001b[1;32m    303\u001b[0m     enc1 \u001b[39m=\u001b[39m \u001b[39mself\u001b[39m\u001b[39m.\u001b[39mencoder2(hidden_states_out[\u001b[39m0\u001b[39m])\n",
      "File \u001b[0;32m/data/marciano/my_envs/FORE/lib/python3.8/site-packages/torch/nn/modules/module.py:1501\u001b[0m, in \u001b[0;36mModule._call_impl\u001b[0;34m(self, *args, **kwargs)\u001b[0m\n\u001b[1;32m   1496\u001b[0m \u001b[39m# If we don't have any hooks, we want to skip the rest of the logic in\u001b[39;00m\n\u001b[1;32m   1497\u001b[0m \u001b[39m# this function, and just call forward.\u001b[39;00m\n\u001b[1;32m   1498\u001b[0m \u001b[39mif\u001b[39;00m \u001b[39mnot\u001b[39;00m (\u001b[39mself\u001b[39m\u001b[39m.\u001b[39m_backward_hooks \u001b[39mor\u001b[39;00m \u001b[39mself\u001b[39m\u001b[39m.\u001b[39m_backward_pre_hooks \u001b[39mor\u001b[39;00m \u001b[39mself\u001b[39m\u001b[39m.\u001b[39m_forward_hooks \u001b[39mor\u001b[39;00m \u001b[39mself\u001b[39m\u001b[39m.\u001b[39m_forward_pre_hooks\n\u001b[1;32m   1499\u001b[0m         \u001b[39mor\u001b[39;00m _global_backward_pre_hooks \u001b[39mor\u001b[39;00m _global_backward_hooks\n\u001b[1;32m   1500\u001b[0m         \u001b[39mor\u001b[39;00m _global_forward_hooks \u001b[39mor\u001b[39;00m _global_forward_pre_hooks):\n\u001b[0;32m-> 1501\u001b[0m     \u001b[39mreturn\u001b[39;00m forward_call(\u001b[39m*\u001b[39;49margs, \u001b[39m*\u001b[39;49m\u001b[39m*\u001b[39;49mkwargs)\n\u001b[1;32m   1502\u001b[0m \u001b[39m# Do not call functions when jit is used\u001b[39;00m\n\u001b[1;32m   1503\u001b[0m full_backward_hooks, non_full_backward_hooks \u001b[39m=\u001b[39m [], []\n",
      "File \u001b[0;32m/data/marciano/my_envs/FORE/lib/python3.8/site-packages/monai/networks/nets/swin_unetr.py:1038\u001b[0m, in \u001b[0;36mSwinTransformer.forward\u001b[0;34m(self, x, normalize)\u001b[0m\n\u001b[1;32m   1037\u001b[0m \u001b[39mdef\u001b[39;00m \u001b[39mforward\u001b[39m(\u001b[39mself\u001b[39m, x, normalize\u001b[39m=\u001b[39m\u001b[39mTrue\u001b[39;00m):\n\u001b[0;32m-> 1038\u001b[0m     x0 \u001b[39m=\u001b[39m \u001b[39mself\u001b[39;49m\u001b[39m.\u001b[39;49mpatch_embed(x)\n\u001b[1;32m   1039\u001b[0m     x0 \u001b[39m=\u001b[39m \u001b[39mself\u001b[39m\u001b[39m.\u001b[39mpos_drop(x0)\n\u001b[1;32m   1040\u001b[0m     x0_out \u001b[39m=\u001b[39m \u001b[39mself\u001b[39m\u001b[39m.\u001b[39mproj_out(x0, normalize)\n",
      "File \u001b[0;32m/data/marciano/my_envs/FORE/lib/python3.8/site-packages/torch/nn/modules/module.py:1501\u001b[0m, in \u001b[0;36mModule._call_impl\u001b[0;34m(self, *args, **kwargs)\u001b[0m\n\u001b[1;32m   1496\u001b[0m \u001b[39m# If we don't have any hooks, we want to skip the rest of the logic in\u001b[39;00m\n\u001b[1;32m   1497\u001b[0m \u001b[39m# this function, and just call forward.\u001b[39;00m\n\u001b[1;32m   1498\u001b[0m \u001b[39mif\u001b[39;00m \u001b[39mnot\u001b[39;00m (\u001b[39mself\u001b[39m\u001b[39m.\u001b[39m_backward_hooks \u001b[39mor\u001b[39;00m \u001b[39mself\u001b[39m\u001b[39m.\u001b[39m_backward_pre_hooks \u001b[39mor\u001b[39;00m \u001b[39mself\u001b[39m\u001b[39m.\u001b[39m_forward_hooks \u001b[39mor\u001b[39;00m \u001b[39mself\u001b[39m\u001b[39m.\u001b[39m_forward_pre_hooks\n\u001b[1;32m   1499\u001b[0m         \u001b[39mor\u001b[39;00m _global_backward_pre_hooks \u001b[39mor\u001b[39;00m _global_backward_hooks\n\u001b[1;32m   1500\u001b[0m         \u001b[39mor\u001b[39;00m _global_forward_hooks \u001b[39mor\u001b[39;00m _global_forward_pre_hooks):\n\u001b[0;32m-> 1501\u001b[0m     \u001b[39mreturn\u001b[39;00m forward_call(\u001b[39m*\u001b[39;49margs, \u001b[39m*\u001b[39;49m\u001b[39m*\u001b[39;49mkwargs)\n\u001b[1;32m   1502\u001b[0m \u001b[39m# Do not call functions when jit is used\u001b[39;00m\n\u001b[1;32m   1503\u001b[0m full_backward_hooks, non_full_backward_hooks \u001b[39m=\u001b[39m [], []\n",
      "File \u001b[0;32m/data/marciano/my_envs/FORE/lib/python3.8/site-packages/monai/networks/blocks/patchembedding.py:174\u001b[0m, in \u001b[0;36mPatchEmbed.forward\u001b[0;34m(self, x)\u001b[0m\n\u001b[1;32m    173\u001b[0m \u001b[39mdef\u001b[39;00m \u001b[39mforward\u001b[39m(\u001b[39mself\u001b[39m, x):\n\u001b[0;32m--> 174\u001b[0m     x_shape \u001b[39m=\u001b[39m x\u001b[39m.\u001b[39;49msize()\n\u001b[1;32m    175\u001b[0m     \u001b[39mif\u001b[39;00m \u001b[39mlen\u001b[39m(x_shape) \u001b[39m==\u001b[39m \u001b[39m5\u001b[39m:\n\u001b[1;32m    176\u001b[0m         _, _, d, h, w \u001b[39m=\u001b[39m x_shape\n",
      "File \u001b[0;32m/data/marciano/my_envs/FORE/lib/python3.8/site-packages/monai/data/meta_tensor.py:276\u001b[0m, in \u001b[0;36mMetaTensor.__torch_function__\u001b[0;34m(cls, func, types, args, kwargs)\u001b[0m\n\u001b[1;32m    274\u001b[0m \u001b[39mif\u001b[39;00m kwargs \u001b[39mis\u001b[39;00m \u001b[39mNone\u001b[39;00m:\n\u001b[1;32m    275\u001b[0m     kwargs \u001b[39m=\u001b[39m {}\n\u001b[0;32m--> 276\u001b[0m ret \u001b[39m=\u001b[39m \u001b[39msuper\u001b[39;49m()\u001b[39m.\u001b[39;49m__torch_function__(func, types, args, kwargs)\n\u001b[1;32m    277\u001b[0m \u001b[39m# if `out` has been used as argument, metadata is not copied, nothing to do.\u001b[39;00m\n\u001b[1;32m    278\u001b[0m \u001b[39m# if \"out\" in kwargs:\u001b[39;00m\n\u001b[1;32m    279\u001b[0m \u001b[39m#     return ret\u001b[39;00m\n\u001b[1;32m    280\u001b[0m \u001b[39mif\u001b[39;00m _not_requiring_metadata(ret):\n",
      "File \u001b[0;32m/data/marciano/my_envs/FORE/lib/python3.8/site-packages/torch/_tensor.py:1296\u001b[0m, in \u001b[0;36mTensor.__torch_function__\u001b[0;34m(cls, func, types, args, kwargs)\u001b[0m\n\u001b[1;32m   1294\u001b[0m \u001b[39mwith\u001b[39;00m _C\u001b[39m.\u001b[39mDisableTorchFunctionSubclass():\n\u001b[1;32m   1295\u001b[0m     ret \u001b[39m=\u001b[39m func(\u001b[39m*\u001b[39margs, \u001b[39m*\u001b[39m\u001b[39m*\u001b[39mkwargs)\n\u001b[0;32m-> 1296\u001b[0m     \u001b[39mif\u001b[39;00m func \u001b[39min\u001b[39;00m get_default_nowrap_functions():\n\u001b[1;32m   1297\u001b[0m         \u001b[39mreturn\u001b[39;00m ret\n\u001b[1;32m   1298\u001b[0m     \u001b[39melse\u001b[39;00m:\n",
      "\u001b[0;31mKeyboardInterrupt\u001b[0m: "
     ]
    }
   ],
   "source": [
    "loss_DC = monai.losses.DiceLoss(softmax=True)\n",
    "optimizer = torch.optim.Adam(unet.parameters(), 1e-4, weight_decay=1e-5)\n",
    "\n",
    "epoch_loss_values = []\n",
    "num_epochs = 100\n",
    "for epoch in range(num_epochs):\n",
    "    print(\"-\" * 10)\n",
    "    print(f\"epoch {epoch + 1}/{num_epochs}\")\n",
    "    unet.train()\n",
    "    epoch_loss, step = 0, 0\n",
    "    for batch_data in train_loader:\n",
    "        step += 1\n",
    "        inputs, labels = batch_data[\"image\"].to(device), np.round(batch_data[\"label\"].cpu().numpy())\n",
    "        optimizer.zero_grad()\n",
    "        labels = F.one_hot(torch.tensor(labels).to(device).long(), num_classes=3).squeeze().transpose(1, 3)\n",
    "        outputs = swin_net(inputs).to(device)\n",
    "        loss = loss_DC(outputs, labels)\n",
    "        loss.backward()\n",
    "        optimizer.step()\n",
    "        epoch_loss += loss.item()\n",
    "        epoch_len = len(patch_ds) // train_loader.batch_size\n",
    "        if step % 25 == 0:\n",
    "            print(f\"{step}/{epoch_len}, train_loss: {loss.item():.4f}\")\n",
    "    epoch_loss /= step\n",
    "    epoch_loss_values.append(epoch_loss)\n",
    "    print(f\"epoch {epoch + 1} average loss: {epoch_loss:.4f}\")\n",
    "print(\"train completed\")"
   ]
  },
  {
   "cell_type": "code",
   "execution_count": null,
   "metadata": {},
   "outputs": [],
   "source": [
    "from monai.metrics import DiceMetric\n",
    "from monai.visualize import matshow3d\n",
    "from monai.inferers import SliceInferer\n",
    "\n",
    "\n",
    "val_transforms = Compose(\n",
    "    [\n",
    "        LoadImaged(keys=[\"image\", \"label\"]),\n",
    "        EnsureChannelFirstd(keys=[\"image\", \"label\"]),\n",
    "        ScaleIntensityd(keys=\"image\"),\n",
    "        EnsureTyped(keys=[\"image\", \"label\"]),\n",
    "    ]\n",
    ")\n",
    "\n",
    "val_ds = DecathlonDataset(\n",
    "    root_dir=root_dir, task=\"Task09_Spleen\", transform=val_transforms, section=\"validation\", seed=12345, download=False\n",
    ")\n",
    "\n",
    "data_loader = DataLoader(val_ds, num_workers=8, pin_memory=torch.cuda.is_available())\n",
    "dice_metric = DiceMetric(include_background=True, reduction=\"mean\", get_not_nans=False)\n",
    "unet.eval()\n",
    "with torch.no_grad():\n",
    "    for val_data in data_loader:\n",
    "        val_images = val_data[\"image\"].to(device)\n",
    "        roi_size = (256, 256)\n",
    "        sw_batch_size = 8\n",
    "        slice_inferer = SliceInferer(\n",
    "            roi_size=roi_size,\n",
    "            sw_batch_size=sw_batch_size,\n",
    "            spatial_dim=1,  # Spatial dim to slice along is defined here\n",
    "            device=torch.device(\"cpu\"),\n",
    "            padding_mode=\"replicate\",\n",
    "        )\n",
    "        val_output = slice_inferer(val_images, unet).cpu()\n",
    "        dice_metric(y_pred=val_output > 0.5, y=val_data[\"label\"])\n",
    "        print(\"Dice: \", dice_metric.get_buffer()[-1][0])\n",
    "        #fig = plt.figure(figsize=(10, 4))\n",
    "        #plt.subplot(1, 2, 1)\n",
    "        #matshow3d(val_output[0].squeeze(), fig=plt.gca())\n",
    "        #plt.subplot(1, 2, 2)\n",
    "        #matshow3d(val_images[0].squeeze(), fig=plt.gca())\n",
    "        #plt.show()\n",
    "    print(f\"Avg Dice: {dice_metric.aggregate().item()}\")"
   ]
  },
  {
   "cell_type": "code",
   "execution_count": null,
   "metadata": {},
   "outputs": [],
   "source": [
    "val_output[0].squeeze().size()"
   ]
  },
  {
   "cell_type": "code",
   "execution_count": null,
   "metadata": {},
   "outputs": [],
   "source": [
    "plt.imshow(val_data['label'][0].squeeze()[:,:,20])"
   ]
  },
  {
   "cell_type": "code",
   "execution_count": null,
   "metadata": {},
   "outputs": [],
   "source": [
    "volume = val_output[0].squeeze().permute(2, 0, 1).to('cpu').detach().numpy()\n",
    "volume.shape"
   ]
  },
  {
   "cell_type": "code",
   "execution_count": null,
   "metadata": {},
   "outputs": [],
   "source": [
    "r, c = volume[0].shape\n",
    "\n",
    "# Define frames\n",
    "import numpy as np\n",
    "from skimage import io\n",
    "import plotly.graph_objects as go\n",
    "nb_frames = volume.shape[0]\n",
    "\n",
    "fig = go.Figure(frames=[go.Frame(data=go.Surface(\n",
    "    z=(nb_frames*.1 - k * 0.1) * np.ones((r, c)),\n",
    "    surfacecolor=np.flipud(volume[(nb_frames-1) - k]),\n",
    "    cmin=0, cmax=200\n",
    "    ),\n",
    "    name=str(k) # you need to name the frame for the animation to behave properly\n",
    "    )\n",
    "    for k in range(nb_frames)])\n",
    "\n",
    "# Add data to be displayed before animation starts\n",
    "fig.add_trace(go.Surface(\n",
    "    z=nb_frames*.1 * np.ones((r, c)),\n",
    "    surfacecolor=np.flipud(volume[(nb_frames-1)]),\n",
    "    colorscale='Gray',\n",
    "    cmin=0, cmax=200,\n",
    "    colorbar=dict(thickness=20, ticklen=4)\n",
    "    ))\n",
    "\n",
    "\n",
    "def frame_args(duration):\n",
    "    return {\n",
    "            \"frame\": {\"duration\": duration},\n",
    "            \"mode\": \"immediate\",\n",
    "            \"fromcurrent\": True,\n",
    "            \"transition\": {\"duration\": duration, \"easing\": \"linear\"},\n",
    "        }\n",
    "\n",
    "sliders = [\n",
    "            {\n",
    "                \"pad\": {\"b\": 10, \"t\": 60},\n",
    "                \"len\": 0.9,\n",
    "                \"x\": 0.1,\n",
    "                \"y\": 0,\n",
    "                \"steps\": [\n",
    "                    {\n",
    "                        \"args\": [[f.name], frame_args(0)],\n",
    "                        \"label\": str(k),\n",
    "                        \"method\": \"animate\",\n",
    "                    }\n",
    "                    for k, f in enumerate(fig.frames)\n",
    "                ],\n",
    "            }\n",
    "        ]\n",
    "\n",
    "# Layout\n",
    "fig.update_layout(\n",
    "         title='Slices in volumetric data',\n",
    "         width=600,\n",
    "         height=600,\n",
    "         scene=dict(\n",
    "                    zaxis=dict(range=[-0.1, nb_frames*.1], autorange=False),\n",
    "                    aspectratio=dict(x=1, y=1, z=1),\n",
    "                    ),\n",
    "         updatemenus = [\n",
    "            {\n",
    "                \"buttons\": [\n",
    "                    {\n",
    "                        \"args\": [None, frame_args(100)],\n",
    "                        \"label\": \"&#9654;\", # play symbol\n",
    "                        \"method\": \"animate\",\n",
    "                    },\n",
    "                    {\n",
    "                        \"args\": [[None], frame_args(0)],\n",
    "                        \"label\": \"&#9724;\", # pause symbol\n",
    "                        \"method\": \"animate\",\n",
    "                    },\n",
    "                ],\n",
    "                \"direction\": \"left\",\n",
    "                \"pad\": {\"r\": 10, \"t\": 70},\n",
    "                \"type\": \"buttons\",\n",
    "                \"x\": 0.1,\n",
    "                \"y\": 0,\n",
    "            }\n",
    "         ],\n",
    "         sliders=sliders\n",
    ")\n",
    "\n",
    "fig.show()"
   ]
  },
  {
   "cell_type": "code",
   "execution_count": null,
   "metadata": {},
   "outputs": [],
   "source": [
    "def extract_2d_slices_from(data):\n",
    "    images = []\n",
    "    labels = []\n",
    "    for i in range(len(data)):\n",
    "        image = data[i]['image']\n",
    "        label = data[i]['label']\n",
    "        try:\n",
    "            images = torch.cat((images, torch.Tensor(image).unsqueeze(dim=0))) if len(images) else torch.Tensor(image).unsqueeze(dim=0)\n",
    "            labels = torch.cat((labels, torch.Tensor(label))) if len(labels) else torch.Tensor(label)\n",
    "        except: print(\"Different dimensions: \", image.size(), label.size(), \". Skipping image.\")\n",
    "    return images, labels"
   ]
  },
  {
   "cell_type": "code",
   "execution_count": null,
   "metadata": {},
   "outputs": [],
   "source": [
    "import torchio\n",
    "import os\n",
    "\n",
    "def save_for_ae(loader, model, threshold, dir):\n",
    "    count = 0\n",
    "    seg_path, gt_path = os.path.join(dir, 'measures/segmentations'), os.path.join(dir, 'labels')\n",
    "    if not os.path.exists(os.path.join(dir, 'measures')):  os.makedirs(seg_path)\n",
    "    if not os.path.exists(os.path.join(dir, 'labels')): os.makedirs(gt_path) \n",
    "    for i, batch in enumerate(loader):\n",
    "        w, h = batch['label'][0].size()[0], batch['label'][0].size()[1]\n",
    "        model.to(device)\n",
    "        model.eval()\n",
    "        with torch.no_grad():\n",
    "            output_image = model(batch[\"image\"].to(device))\n",
    "            output_image = torchio.ScalarImage(tensor=output_image.cpu().numpy())\n",
    "        \n",
    "        # check if  pixels are non zero\n",
    "        if torch.count_nonzero(batch['label'][0]).item() > threshold:\n",
    "            count +=1 \n",
    "            label_image = torchio.ScalarImage(tensor=batch['label'].cpu().numpy())\n",
    "            output_image.save(os.path.join(seg_path, f'patient_{i:03d}.nii.gz'))\n",
    "            label_image.save(os.path.join(gt_path, f'segmentation_{i:03d}.nii.gz'))\n",
    "    print(f\"Successfully saved {count} images to \", dir)"
   ]
  },
  {
   "cell_type": "code",
   "execution_count": null,
   "metadata": {},
   "outputs": [],
   "source": [
    "loader = DataLoader(\n",
    "    patch_ds,\n",
    "    batch_size=1,\n",
    "    num_workers=8,\n",
    "    pin_memory=torch.cuda.is_available(),\n",
    ")\n",
    "save_for_ae(loader, unet, .005, 'data/prostate')"
   ]
  },
  {
   "cell_type": "code",
   "execution_count": null,
   "metadata": {},
   "outputs": [],
   "source": [
    "import nibabel as nib\n",
    "\n",
    "img = nib.load('data/spleen/segmentations/segmentation_10.nii.gz').get_fdata()\n",
    "img.shape"
   ]
  },
  {
   "cell_type": "code",
   "execution_count": null,
   "metadata": {},
   "outputs": [],
   "source": [
    "plt.imshow(img[0], cmap='gray')\n",
    "plt.show()"
   ]
  },
  {
   "cell_type": "code",
   "execution_count": null,
   "metadata": {},
   "outputs": [],
   "source": []
  }
 ],
 "metadata": {
  "kernelspec": {
   "display_name": "FORE",
   "language": "python",
   "name": "python3"
  },
  "language_info": {
   "codemirror_mode": {
    "name": "ipython",
    "version": 3
   },
   "file_extension": ".py",
   "mimetype": "text/x-python",
   "name": "python",
   "nbconvert_exporter": "python",
   "pygments_lexer": "ipython3",
   "version": "3.8.10"
  },
  "orig_nbformat": 4
 },
 "nbformat": 4,
 "nbformat_minor": 2
}
