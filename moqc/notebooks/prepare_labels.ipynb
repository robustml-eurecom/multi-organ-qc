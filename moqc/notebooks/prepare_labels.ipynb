{
 "cells": [
  {
   "cell_type": "markdown",
   "metadata": {},
   "source": [
    "## Notebook to prepare the data from nnUnet segmentations and MSD dataset"
   ]
  },
  {
   "cell_type": "markdown",
   "metadata": {},
   "source": [
    "Optional step, if you require it. \n",
    "\n",
    "\n",
    "**NOTE:** run this before running `data_preparation.py`"
   ]
  },
  {
   "cell_type": "code",
   "execution_count": null,
   "metadata": {},
   "outputs": [],
   "source": [
    "%cd /data/marciano/experiments/multi-organ-qc/moqc"
   ]
  },
  {
   "cell_type": "code",
   "execution_count": null,
   "metadata": {},
   "outputs": [],
   "source": [
    "import nibabel as nib\n",
    "import numpy as np\n",
    "import os"
   ]
  },
  {
   "cell_type": "code",
   "execution_count": null,
   "metadata": {},
   "outputs": [],
   "source": [
    "#rand_id = np.random.randint(0, len(os.listdir('nnUnet_seg/hippocampus/Ts')))\n",
    "#print(rand_id)\n",
    "rand_img = nib.load(f'/data/marciano/experiments/multi-organ-qc/MSD_data/Task04_Hippocampus/labelsTr/hippocampus_001.nii.gz').get_fdata().transpose(2, 0, 1)\n",
    "rand_img.shape"
   ]
  },
  {
   "cell_type": "code",
   "execution_count": null,
   "metadata": {},
   "outputs": [],
   "source": [
    "from utils.dataset import select_valid_imgs, remove_non_common_files\n",
    "\n",
    "label_path = '/data/marciano/experiments/multi-organ-qc/MSD_data/Task02_Heart/labelsTr'\n",
    "save_path_label = '/data/marciano/experiments/multi-organ-qc/data/heart/labels'\n",
    "select_valid_imgs(label_path, save_path_label, inter_slice_range=[30, 90], non_zero_thres=0.005)\n",
    "\n",
    "segpath = '/data/marciano/experiments/multi-organ-qc/nnUnet_seg/heart/Tr/'\n",
    "segsave = '/data/marciano/experiments/multi-organ-qc/data/heart/nnunet/segmentations'\n",
    "select_valid_imgs(segpath, segsave, inter_slice_range=[30, 90], non_zero_thres=0.005)"
   ]
  },
  {
   "cell_type": "code",
   "execution_count": null,
   "metadata": {},
   "outputs": [],
   "source": [
    "remove_non_common_files(save_path_label, segsave)"
   ]
  },
  {
   "cell_type": "code",
   "execution_count": null,
   "metadata": {},
   "outputs": [],
   "source": [
    "assert len(os.listdir(save_path_label)) == len(os.listdir(segsave))"
   ]
  },
  {
   "cell_type": "markdown",
   "metadata": {},
   "source": [
    "# 3D interactive plot"
   ]
  },
  {
   "cell_type": "code",
   "execution_count": null,
   "metadata": {},
   "outputs": [],
   "source": [
    "r, c = rand_img.shape[1:]\n",
    "\n",
    "# Define frames\n",
    "import numpy as np\n",
    "from skimage import io\n",
    "import plotly.graph_objects as go\n",
    "nb_frames = rand_img.shape[0]\n",
    "\n",
    "fig = go.Figure(frames=[go.Frame(data=go.Surface(\n",
    "    z=(nb_frames*.1 - k * 0.1) * np.ones((r, c)),\n",
    "    surfacecolor=np.flipud(rand_img[(nb_frames-1) - k]),\n",
    "    ),\n",
    "    name=str(k) # you need to name the frame for the animation to behave properly\n",
    "    )\n",
    "    for k in range(nb_frames)])\n",
    "\n",
    "# Add data to be displayed before animation starts\n",
    "fig.add_trace(go.Surface(\n",
    "    z=nb_frames*.1 * np.ones((r, c)),\n",
    "    surfacecolor=np.flipud(rand_img[(nb_frames-1)]),\n",
    "    colorbar=dict(thickness=20, ticklen=4)\n",
    "    ))\n",
    "\n",
    "\n",
    "def frame_args(duration):\n",
    "    return {\n",
    "            \"frame\": {\"duration\": duration},\n",
    "            \"mode\": \"immediate\",\n",
    "            \"fromcurrent\": True,\n",
    "            \"transition\": {\"duration\": duration, \"easing\": \"linear\"},\n",
    "        }\n",
    "\n",
    "sliders = [\n",
    "            {\n",
    "                \"pad\": {\"b\": 10, \"t\": 60},\n",
    "                \"len\": 0.9,\n",
    "                \"x\": 0.1,\n",
    "                \"y\": 0,\n",
    "                \"steps\": [\n",
    "                    {\n",
    "                        \"args\": [[f.name], frame_args(0)],\n",
    "                        \"label\": str(k),\n",
    "                        \"method\": \"animate\",\n",
    "                    }\n",
    "                    for k, f in enumerate(fig.frames)\n",
    "                ],\n",
    "            }\n",
    "        ]\n",
    "\n",
    "# Layout\n",
    "fig.update_layout(\n",
    "         title='Slices in volumetric data',\n",
    "         width=600,\n",
    "         height=600,\n",
    "         scene=dict(\n",
    "                zaxis=dict(range=[-0.1, nb_frames*.1], autorange=False),\n",
    "                aspectratio=dict(x=1, y=1, z=1),\n",
    "                ),\n",
    "         updatemenus = [\n",
    "            {\n",
    "                \"buttons\": [\n",
    "                    {\n",
    "                        \"args\": [None, frame_args(100)],\n",
    "                        \"label\": \"&#9654;\", # play symbol\n",
    "                        \"method\": \"animate\",\n",
    "                    },\n",
    "                    {\n",
    "                        \"args\": [[None], frame_args(0)],\n",
    "                        \"label\": \"&#9724;\", # pause symbol\n",
    "                        \"method\": \"animate\",\n",
    "                    },\n",
    "                ],\n",
    "                \"direction\": \"left\",\n",
    "                \"pad\": {\"r\": 10, \"t\": 70},\n",
    "                \"type\": \"buttons\",\n",
    "                \"x\": 0.1,\n",
    "                \"y\": 0,\n",
    "            }\n",
    "         ],\n",
    "         sliders=sliders\n",
    ")\n",
    "\n",
    "fig.show()"
   ]
  },
  {
   "cell_type": "code",
   "execution_count": null,
   "metadata": {},
   "outputs": [],
   "source": []
  }
 ],
 "metadata": {
  "kernelspec": {
   "display_name": "FORE",
   "language": "python",
   "name": "python3"
  },
  "language_info": {
   "codemirror_mode": {
    "name": "ipython",
    "version": 3
   },
   "file_extension": ".py",
   "mimetype": "text/x-python",
   "name": "python",
   "nbconvert_exporter": "python",
   "pygments_lexer": "ipython3",
   "version": "3.8.10"
  }
 },
 "nbformat": 4,
 "nbformat_minor": 2
}
