{
 "cells": [
  {
   "cell_type": "code",
   "execution_count": null,
   "metadata": {},
   "outputs": [],
   "source": [
    "%cd /data/marciano/experiments/multi-organ-qc/moqc"
   ]
  },
  {
   "cell_type": "code",
   "execution_count": null,
   "metadata": {},
   "outputs": [],
   "source": [
    "import webbrowser\n",
    "from IPython.display import HTML\n",
    "# Specify the path to your HTML file\n",
    "html_file_path = '/data/marciano/experiments/multi-organ-qc/logs/dcgan.html'\n",
    "\n",
    "# Display the HTML file in the notebook\n",
    "HTML(filename=html_file_path)"
   ]
  },
  {
   "cell_type": "code",
   "execution_count": null,
   "metadata": {},
   "outputs": [],
   "source": [
    "from models.GAN.dcgan import DCGAN\n",
    "from utils.preprocess import transform_aug\n",
    "from utils.dataset import NiftiDataset\n",
    "import torch\n",
    "import torch.nn as nn\n",
    "import yaml\n",
    "import numpy   as np\n",
    "\n",
    "device = torch.device(\"cuda:0\" if torch.cuda.is_available() else \"cpu\")\n",
    "\n",
    "with open('models/config.yml', 'r') as file:\n",
    "    try:\n",
    "        config = yaml.safe_load(file)\n",
    "    except yaml.YAMLError as exc:\n",
    "        print(exc)\n",
    "parameters = config[\"parameters\"]['dcgan']\n",
    "parameters['functions'] = {\n",
    "    \"BCELoss\": nn.BCELoss(),\n",
    "}\n",
    "model = DCGAN(**parameters).to(device)\n",
    "model.load_checkpoint(data_path='/data/marciano/experiments/multi-organ-qc/data/prostate/', eval=True)\n",
    "transform, _ = transform_aug(None, 'dcgan')\n",
    "dataset = NiftiDataset('/data/marciano/experiments/multi-organ-qc/data/prostate/nnunet/structured', transform=transform)\n",
    "test_dataloader = torch.utils.data.DataLoader(dataset, batch_size=200, shuffle=False, num_workers=0)\n",
    "\n",
    "model.eval()  # Set the model to evaluation mode\n",
    "total_loss = 0.0\n",
    "correct = 0\n",
    "total = 0\n",
    "outputs = []\n",
    "val_data = torch.cat([inputs for inputs in test_dataloader], dim=0).float().to(device)\n",
    "emb = model.netD.embed(torch.tensor(val_data).to(device))\n",
    "outputs = model.netG(torch.tensor(emb).to(device))\n",
    "        "
   ]
  },
  {
   "cell_type": "code",
   "execution_count": null,
   "metadata": {},
   "outputs": [],
   "source": [
    "import matplotlib.pyplot as plt\n",
    "\n",
    "plt.imshow(outputs[30].cpu().detach().numpy().squeeze(), cmap='gray')\n",
    "plt.show()\n",
    "plt.imshow(val_data[30].cpu().numpy().squeeze(), cmap='gray')"
   ]
  },
  {
   "cell_type": "code",
   "execution_count": null,
   "metadata": {},
   "outputs": [],
   "source": []
  }
 ],
 "metadata": {
  "kernelspec": {
   "display_name": "FORE",
   "language": "python",
   "name": "python3"
  },
  "language_info": {
   "codemirror_mode": {
    "name": "ipython",
    "version": 3
   },
   "file_extension": ".py",
   "mimetype": "text/x-python",
   "name": "python",
   "nbconvert_exporter": "python",
   "pygments_lexer": "ipython3",
   "version": "3.8.10"
  }
 },
 "nbformat": 4,
 "nbformat_minor": 2
}
