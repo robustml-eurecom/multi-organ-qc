{
 "cells": [
  {
   "cell_type": "code",
   "execution_count": null,
   "metadata": {},
   "outputs": [],
   "source": [
    "%cd /data/marciano/experiments/multi-organ-qc/moqc"
   ]
  },
  {
   "cell_type": "code",
   "execution_count": null,
   "metadata": {},
   "outputs": [],
   "source": [
    "import pandas as pd\n",
    "import numpy as np\n",
    "import scipy.stats as stats"
   ]
  },
  {
   "cell_type": "code",
   "execution_count": null,
   "metadata": {},
   "outputs": [],
   "source": [
    "df_prostate_res = pd.read_csv('/data/marciano/experiments/multi-organ-qc/data/prostate/results.csv')"
   ]
  },
  {
   "cell_type": "code",
   "execution_count": null,
   "metadata": {},
   "outputs": [],
   "source": [
    "df_prostate_res.head()"
   ]
  },
  {
   "cell_type": "code",
   "execution_count": null,
   "metadata": {},
   "outputs": [],
   "source": [
    "for class_id in range(2):\n",
    "    dc_model_GT = df_prostate_res[f'model_GT_K{class_id+1}_DC']\n",
    "    dc_model_pGT = df_prostate_res[f'model_pGT_K{class_id+1}_DC']\n",
    "    hd_model_GT = df_prostate_res[f'model_GT_K{class_id+1}_HD']\n",
    "    hd_model_pGT = df_prostate_res[f'model_pGT_K{class_id+1}_HD']\n",
    "    \n",
    "    corr_hd, _ = stats.pearsonr(hd_model_GT, hd_model_pGT)\n",
    "    corr_dc, _ = stats.pearsonr(dc_model_GT, dc_model_pGT)\n",
    "    \n",
    "    print(\"Class %d\" % (class_id+1))\n",
    "    print(len(dc_model_GT), len(dc_model_pGT), len(hd_model_GT), len(hd_model_pGT))\n",
    "    print(corr_hd, corr_dc)"
   ]
  },
  {
   "cell_type": "code",
   "execution_count": null,
   "metadata": {},
   "outputs": [],
   "source": []
  },
  {
   "cell_type": "code",
   "execution_count": null,
   "metadata": {},
   "outputs": [],
   "source": [
    "df_prostate_res[df_prostate_res['model_pGT_K2_HD']>5].head(50)"
   ]
  },
  {
   "cell_type": "code",
   "execution_count": null,
   "metadata": {},
   "outputs": [],
   "source": []
  }
 ],
 "metadata": {
  "kernelspec": {
   "display_name": "FORE",
   "language": "python",
   "name": "python3"
  },
  "language_info": {
   "codemirror_mode": {
    "name": "ipython",
    "version": 3
   },
   "file_extension": ".py",
   "mimetype": "text/x-python",
   "name": "python",
   "nbconvert_exporter": "python",
   "pygments_lexer": "ipython3",
   "version": "3.8.10"
  }
 },
 "nbformat": 4,
 "nbformat_minor": 2
}
