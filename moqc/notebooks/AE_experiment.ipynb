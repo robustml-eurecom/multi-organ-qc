{
 "cells": [
  {
   "cell_type": "code",
   "execution_count": 1,
   "metadata": {},
   "outputs": [],
   "source": [
    "import logging\n",
    "import os\n",
    "import shutil\n",
    "import sys\n",
    "import tempfile\n",
    "import random\n",
    "import numpy as np\n",
    "from tqdm import trange\n",
    "import matplotlib.pyplot as plt\n",
    "import torch\n",
    "from skimage.util import random_noise\n",
    "\n",
    "from monai.apps import download_and_extract\n",
    "from monai.config import print_config\n",
    "from monai.data import CacheDataset, DataLoader\n",
    "from monai.networks.nets import AutoEncoder\n",
    "from monai.transforms import (\n",
    "    EnsureChannelFirstD,\n",
    "    Compose,\n",
    "    LoadImageD,\n",
    "    RandFlipD,\n",
    "    RandRotateD,\n",
    "    RandZoomD,\n",
    "    ScaleIntensityD,\n",
    "    EnsureTypeD,\n",
    "    Lambda,\n",
    ")\n",
    "from monai.utils import set_determinism\n",
    "\n",
    "\n",
    "logging.basicConfig(stream=sys.stdout, level=logging.INFO)\n",
    "set_determinism(0)\n",
    "device = torch.device(\"cuda\" if torch.cuda.is_available() else \"cpu\")"
   ]
  },
  {
   "cell_type": "code",
   "execution_count": 2,
   "metadata": {},
   "outputs": [],
   "source": [
    "# Create small visualisation function\n",
    "import nibabel as nib\n",
    "\n",
    "def plot_ims(ims, shape=None, figsize=(10, 10), titles=None):\n",
    "    shape = (1, len(ims)) if shape is None else shape\n",
    "    plt.subplots(*shape, figsize=figsize)\n",
    "    for i, im in enumerate(ims):\n",
    "        plt.subplot(*shape, i + 1)\n",
    "        im = nib.load(im).get_fdata().astype(int)\n",
    "        im = plt.imread(im) if isinstance(im, str) else torch.squeeze(im)\n",
    "        plt.imshow(im, cmap=\"gray\")\n",
    "        if titles is not None:\n",
    "            plt.title(titles[i])\n",
    "        plt.axis(\"off\")\n",
    "    plt.tight_layout()\n",
    "    plt.show()"
   ]
  },
  {
   "cell_type": "code",
   "execution_count": 3,
   "metadata": {},
   "outputs": [
    {
     "name": "stderr",
     "output_type": "stream",
     "text": [
      "/data/marciano/my_envs/FORE/lib/python3.8/site-packages/monai/utils/deprecate_utils.py:321: FutureWarning: monai.transforms.io.dictionary LoadImaged.__init__:image_only: Current default value of argument `image_only=False` has been deprecated since version 1.1. It will be changed to `image_only=True` in version 1.3.\n",
      "  warn_deprecated(argname, msg, warning_category)\n"
     ]
    }
   ],
   "source": [
    "NoiseLambda = Lambda(\n",
    "    lambda d: {\n",
    "        \"orig\": d[\"im\"],\n",
    "        \"gaus\": torch.tensor(random_noise(d[\"im\"], mode=\"gaussian\"), dtype=torch.float32),\n",
    "        \"s&p\": torch.tensor(random_noise(d[\"im\"], mode=\"s&p\", salt_vs_pepper=0.1)),\n",
    "    }\n",
    ")\n",
    "\n",
    "train_transforms = Compose(\n",
    "    [\n",
    "        LoadImageD(keys=[\"im\"]),\n",
    "        EnsureChannelFirstD(keys=[\"im\"]),\n",
    "        ScaleIntensityD(keys=[\"im\"]),\n",
    "        RandRotateD(keys=[\"im\"], range_x=np.pi / 12, prob=0.5, keep_size=True),\n",
    "        RandFlipD(keys=[\"im\"], spatial_axis=0, prob=0.5),\n",
    "        RandZoomD(keys=[\"im\"], min_zoom=0.9, max_zoom=1.1, prob=0.5),\n",
    "        EnsureTypeD(keys=[\"im\"]),\n",
    "        NoiseLambda,\n",
    "    ]\n",
    ")\n",
    "\n",
    "test_transforms = Compose(\n",
    "    [\n",
    "        LoadImageD(keys=[\"im\"]),\n",
    "        EnsureChannelFirstD(keys=[\"im\"]),\n",
    "        ScaleIntensityD(keys=[\"im\"]),\n",
    "        EnsureTypeD(keys=[\"im\"]),\n",
    "        NoiseLambda,\n",
    "    ]\n",
    ")"
   ]
  },
  {
   "cell_type": "code",
   "execution_count": 4,
   "metadata": {},
   "outputs": [
    {
     "name": "stdout",
     "output_type": "stream",
     "text": [
      "/data/marciano/experiments/multi-organ-qc/moqc/notebooks\n"
     ]
    }
   ],
   "source": [
    "!pwd"
   ]
  },
  {
   "cell_type": "code",
   "execution_count": 6,
   "metadata": {},
   "outputs": [
    {
     "name": "stdout",
     "output_type": "stream",
     "text": [
      "/data/marciano/experiments/multi-organ-qc\n"
     ]
    }
   ],
   "source": [
    "%cd .."
   ]
  },
  {
   "cell_type": "code",
   "execution_count": null,
   "metadata": {},
   "outputs": [],
   "source": [
    "%cd .."
   ]
  },
  {
   "cell_type": "code",
   "execution_count": 7,
   "metadata": {},
   "outputs": [
    {
     "ename": "FileNotFoundError",
     "evalue": "[Errno 2] No such file or directory: 'patient006/mask.nii.gz'",
     "output_type": "error",
     "traceback": [
      "\u001b[0;31m---------------------------------------------------------------------------\u001b[0m",
      "\u001b[0;31mFileNotFoundError\u001b[0m                         Traceback (most recent call last)",
      "\u001b[1;32m/data/marciano/experiments/multi-organ-qc/moqc/notebooks/AE_experiment.ipynb Cell 7\u001b[0m line \u001b[0;36m9\n\u001b[1;32m      <a href='vscode-notebook-cell://ssh-remote%2Bmagnolia/data/marciano/experiments/multi-organ-qc/moqc/notebooks/AE_experiment.ipynb#X16sdnNjb2RlLXJlbW90ZQ%3D%3D?line=6'>7</a>\u001b[0m \u001b[39m# Visualise a few of them\u001b[39;00m\n\u001b[1;32m      <a href='vscode-notebook-cell://ssh-remote%2Bmagnolia/data/marciano/experiments/multi-organ-qc/moqc/notebooks/AE_experiment.ipynb#X16sdnNjb2RlLXJlbW90ZQ%3D%3D?line=7'>8</a>\u001b[0m rand_images \u001b[39m=\u001b[39m np\u001b[39m.\u001b[39mrandom\u001b[39m.\u001b[39mchoice(all_filenames, \u001b[39m8\u001b[39m, replace\u001b[39m=\u001b[39m\u001b[39mFalse\u001b[39;00m)\n\u001b[0;32m----> <a href='vscode-notebook-cell://ssh-remote%2Bmagnolia/data/marciano/experiments/multi-organ-qc/moqc/notebooks/AE_experiment.ipynb#X16sdnNjb2RlLXJlbW90ZQ%3D%3D?line=8'>9</a>\u001b[0m plot_ims(rand_images, shape\u001b[39m=\u001b[39;49m(\u001b[39m2\u001b[39;49m, \u001b[39m4\u001b[39;49m))\n",
      "\u001b[1;32m/data/marciano/experiments/multi-organ-qc/moqc/notebooks/AE_experiment.ipynb Cell 7\u001b[0m line \u001b[0;36m7\n\u001b[1;32m      <a href='vscode-notebook-cell://ssh-remote%2Bmagnolia/data/marciano/experiments/multi-organ-qc/moqc/notebooks/AE_experiment.ipynb#X16sdnNjb2RlLXJlbW90ZQ%3D%3D?line=4'>5</a>\u001b[0m \u001b[39mfor\u001b[39;00m i, im \u001b[39min\u001b[39;00m \u001b[39menumerate\u001b[39m(ims):\n\u001b[1;32m      <a href='vscode-notebook-cell://ssh-remote%2Bmagnolia/data/marciano/experiments/multi-organ-qc/moqc/notebooks/AE_experiment.ipynb#X16sdnNjb2RlLXJlbW90ZQ%3D%3D?line=5'>6</a>\u001b[0m     plt\u001b[39m.\u001b[39msubplot(\u001b[39m*\u001b[39mshape, i \u001b[39m+\u001b[39m \u001b[39m1\u001b[39m)\n\u001b[0;32m----> <a href='vscode-notebook-cell://ssh-remote%2Bmagnolia/data/marciano/experiments/multi-organ-qc/moqc/notebooks/AE_experiment.ipynb#X16sdnNjb2RlLXJlbW90ZQ%3D%3D?line=6'>7</a>\u001b[0m     im \u001b[39m=\u001b[39m plt\u001b[39m.\u001b[39;49mimread(im) \u001b[39mif\u001b[39;00m \u001b[39misinstance\u001b[39m(im, \u001b[39mstr\u001b[39m) \u001b[39melse\u001b[39;00m torch\u001b[39m.\u001b[39msqueeze(im)\n\u001b[1;32m      <a href='vscode-notebook-cell://ssh-remote%2Bmagnolia/data/marciano/experiments/multi-organ-qc/moqc/notebooks/AE_experiment.ipynb#X16sdnNjb2RlLXJlbW90ZQ%3D%3D?line=7'>8</a>\u001b[0m     plt\u001b[39m.\u001b[39mimshow(im, cmap\u001b[39m=\u001b[39m\u001b[39m\"\u001b[39m\u001b[39mgray\u001b[39m\u001b[39m\"\u001b[39m)\n\u001b[1;32m      <a href='vscode-notebook-cell://ssh-remote%2Bmagnolia/data/marciano/experiments/multi-organ-qc/moqc/notebooks/AE_experiment.ipynb#X16sdnNjb2RlLXJlbW90ZQ%3D%3D?line=8'>9</a>\u001b[0m     \u001b[39mif\u001b[39;00m titles \u001b[39mis\u001b[39;00m \u001b[39mnot\u001b[39;00m \u001b[39mNone\u001b[39;00m:\n",
      "File \u001b[0;32m/data/marciano/my_envs/FORE/lib/python3.8/site-packages/matplotlib/pyplot.py:2195\u001b[0m, in \u001b[0;36mimread\u001b[0;34m(fname, format)\u001b[0m\n\u001b[1;32m   2193\u001b[0m \u001b[39m@_copy_docstring_and_deprecators\u001b[39m(matplotlib\u001b[39m.\u001b[39mimage\u001b[39m.\u001b[39mimread)\n\u001b[1;32m   2194\u001b[0m \u001b[39mdef\u001b[39;00m \u001b[39mimread\u001b[39m(fname, \u001b[39mformat\u001b[39m\u001b[39m=\u001b[39m\u001b[39mNone\u001b[39;00m):\n\u001b[0;32m-> 2195\u001b[0m     \u001b[39mreturn\u001b[39;00m matplotlib\u001b[39m.\u001b[39;49mimage\u001b[39m.\u001b[39;49mimread(fname, \u001b[39mformat\u001b[39;49m)\n",
      "File \u001b[0;32m/data/marciano/my_envs/FORE/lib/python3.8/site-packages/matplotlib/image.py:1563\u001b[0m, in \u001b[0;36mimread\u001b[0;34m(fname, format)\u001b[0m\n\u001b[1;32m   1556\u001b[0m \u001b[39mif\u001b[39;00m \u001b[39misinstance\u001b[39m(fname, \u001b[39mstr\u001b[39m) \u001b[39mand\u001b[39;00m \u001b[39mlen\u001b[39m(parse\u001b[39m.\u001b[39murlparse(fname)\u001b[39m.\u001b[39mscheme) \u001b[39m>\u001b[39m \u001b[39m1\u001b[39m:\n\u001b[1;32m   1557\u001b[0m     \u001b[39m# Pillow doesn't handle URLs directly.\u001b[39;00m\n\u001b[1;32m   1558\u001b[0m     \u001b[39mraise\u001b[39;00m \u001b[39mValueError\u001b[39;00m(\n\u001b[1;32m   1559\u001b[0m         \u001b[39m\"\u001b[39m\u001b[39mPlease open the URL for reading and pass the \u001b[39m\u001b[39m\"\u001b[39m\n\u001b[1;32m   1560\u001b[0m         \u001b[39m\"\u001b[39m\u001b[39mresult to Pillow, e.g. with \u001b[39m\u001b[39m\"\u001b[39m\n\u001b[1;32m   1561\u001b[0m         \u001b[39m\"\u001b[39m\u001b[39m``np.array(PIL.Image.open(urllib.request.urlopen(url)))``.\u001b[39m\u001b[39m\"\u001b[39m\n\u001b[1;32m   1562\u001b[0m         )\n\u001b[0;32m-> 1563\u001b[0m \u001b[39mwith\u001b[39;00m img_open(fname) \u001b[39mas\u001b[39;00m image:\n\u001b[1;32m   1564\u001b[0m     \u001b[39mreturn\u001b[39;00m (_pil_png_to_float_array(image)\n\u001b[1;32m   1565\u001b[0m             \u001b[39mif\u001b[39;00m \u001b[39misinstance\u001b[39m(image, PIL\u001b[39m.\u001b[39mPngImagePlugin\u001b[39m.\u001b[39mPngImageFile) \u001b[39melse\u001b[39;00m\n\u001b[1;32m   1566\u001b[0m             pil_to_array(image))\n",
      "File \u001b[0;32m/data/marciano/my_envs/FORE/lib/python3.8/site-packages/PIL/Image.py:3218\u001b[0m, in \u001b[0;36mopen\u001b[0;34m(fp, mode, formats)\u001b[0m\n\u001b[1;32m   3215\u001b[0m     filename \u001b[39m=\u001b[39m fp\n\u001b[1;32m   3217\u001b[0m \u001b[39mif\u001b[39;00m filename:\n\u001b[0;32m-> 3218\u001b[0m     fp \u001b[39m=\u001b[39m builtins\u001b[39m.\u001b[39;49mopen(filename, \u001b[39m\"\u001b[39;49m\u001b[39mrb\u001b[39;49m\u001b[39m\"\u001b[39;49m)\n\u001b[1;32m   3219\u001b[0m     exclusive_fp \u001b[39m=\u001b[39m \u001b[39mTrue\u001b[39;00m\n\u001b[1;32m   3221\u001b[0m \u001b[39mtry\u001b[39;00m:\n",
      "\u001b[0;31mFileNotFoundError\u001b[0m: [Errno 2] No such file or directory: 'patient006/mask.nii.gz'"
     ]
    },
    {
     "data": {
      "image/png": "[encoded data removed]",
      "text/plain": [
       "<Figure size 1000x1000 with 8 Axes>"
      ]
     },
     "metadata": {},
     "output_type": "display_data"
    }
   ],
   "source": [
    "organ = 'spleen'\n",
    "DATA_PATH = os.path.join(\"data\", organ)\n",
    "\n",
    "all_filenames = [os.path.join(filename, \"mask.nii.gz\") for filename in os.listdir(os.path.join(DATA_PATH, \"structured\"))]\n",
    "random.shuffle(all_filenames)\n",
    "\n",
    "# Visualise a few of them\n",
    "rand_images = np.random.choice(all_filenames, 8, replace=False)\n",
    "plot_ims(rand_images, shape=(2, 4))"
   ]
  },
  {
   "cell_type": "code",
   "execution_count": 6,
   "metadata": {},
   "outputs": [],
   "source": [
    "import os\n",
    "import matplotlib.pyplot as plt\n",
    "import numpy as np\n",
    "import torch\n",
    "import yaml\n",
    "import nibabel as nib\n",
    "\n",
    "from models.ConvAE.cae import ConvAutoencoder\n",
    "from models.utils import load_opt_params\n",
    "\n",
    "'''\n",
    "Line arguments to implement:\n",
    "    - data path, str\n",
    "    - patient id\n",
    "'''\n",
    "organ = 'spleen'\n",
    "DATA_PATH = os.path.join(\"data\", organ)\n",
    "CONFIG_FILENAME = \"models/config.yml\"\n",
    "\n",
    "device = torch.device(\"cuda\" if torch.cuda.is_available() else \"cpu\")\n",
    "\n",
    "    \n",
    "with open(CONFIG_FILENAME, 'r') as file:\n",
    "    try:\n",
    "        config = yaml.safe_load(file)\n",
    "    except yaml.YAMLError as exc:\n",
    "        print(exc)\n"
   ]
  },
  {
   "cell_type": "code",
   "execution_count": null,
   "metadata": {},
   "outputs": [],
   "source": [
    "%cd .."
   ]
  },
  {
   "cell_type": "code",
   "execution_count": null,
   "metadata": {},
   "outputs": [],
   "source": [
    "KEYS = config[\"run_params\"][\"keys\"]\n",
    "prepro_path = os.path.join(DATA_PATH, \"preprocessed\")\n",
    "optimal_parameters = load_opt_params(prepro_path)\n",
    "\n",
    "ae = ConvAutoencoder(keys=KEYS, **optimal_parameters).to(device)\n",
    "\n",
    "\n",
    "test_ids = np.load(os.path.join(DATA_PATH,'saved_ids.npy'), allow_pickle=True).item().get('test_ids')\n",
    "\n",
    "#PATIENT_ID = int(np.random.choice(test_ids))\n",
    "PATIENT_ID = 30\n",
    "print(f\"Selected patient is Patient N°{PATIENT_ID:03d}\")\n",
    "\n",
    "prediction = nib.load(os.path.join(DATA_PATH, \"measures_structured/patient{:03d}/mask.nii.gz\".format(PATIENT_ID))).get_fdata()[:,:,:].transpose(2, 1, 0)\n",
    "reconstruction = nib.load(os.path.join(DATA_PATH,\"reconstructions/patient{:03d}/mask.nii.gz\".format(PATIENT_ID))).get_fdata().transpose(2, 1, 0)\n",
    "GT = np.round(nib.load(os.path.join(DATA_PATH,\"structured/patient{:03d}/mask.nii.gz\".format(PATIENT_ID))).get_fdata().transpose(2, 1, 0), 2)"
   ]
  },
  {
   "cell_type": "code",
   "execution_count": null,
   "metadata": {},
   "outputs": [],
   "source": [
    "print(prediction.shape), print(reconstruction.shape), print(GT.shape)"
   ]
  },
  {
   "cell_type": "code",
   "execution_count": null,
   "metadata": {},
   "outputs": [],
   "source": [
    "from PIL import Image\n",
    "import cv2\n",
    "\n",
    "def display_image(img, patient_id, name=None):   \n",
    "    img = np.array(img) \n",
    "    folder_out_img = f'evaluations/patient_{patient_id}/'\n",
    "    if not os.path.exists(folder_out_img): os.makedirs(folder_out_img)\n",
    "    img_save_path = f'{folder_out_img}/{name}' if name is not None else f'{folder_out_img}/img.png'\n",
    "    cv2.imwrite(img_save_path, img)\n",
    "    plt.imshow(img, cmap='gray')\n",
    "    plt.show()"
   ]
  },
  {
   "cell_type": "code",
   "execution_count": null,
   "metadata": {},
   "outputs": [],
   "source": [
    "display_image(prediction, PATIENT_ID, name='prediction.png')\n",
    "display_image(reconstruction, PATIENT_ID, name='reconstruction.png')\n",
    "display_image(GT, PATIENT_ID, name='GT.png')"
   ]
  },
  {
   "cell_type": "code",
   "execution_count": null,
   "metadata": {},
   "outputs": [],
   "source": [
    "import cv2\n",
    "img1 = cv2.imread('Bean.jpg',0)\n",
    "img2 = cv2.imread('saltnpepperBean.jpg',0)\n",
    "\n",
    "diff = cv2.absdiff(img1, img2)\n",
    "threshold=int(np.mean(diff))\n",
    "\n",
    "# Make colour version of input image so we can put red pixels in it\n",
    "resultRGB = cv2.cvtColor(img1,cv2.COLOR_GRAY2BGR)\n",
    "\n",
    "# Colorize all pixels above threshold with red \n",
    "resultRGB[diff>3*threshold] = 0,0,255\n",
    "\n",
    "# Save to disk\n",
    "cv2.imwrite('result.jpg',resultRGB)"
   ]
  }
 ],
 "metadata": {
  "kernelspec": {
   "display_name": "FORE",
   "language": "python",
   "name": "python3"
  },
  "language_info": {
   "codemirror_mode": {
    "name": "ipython",
    "version": 3
   },
   "file_extension": ".py",
   "mimetype": "text/x-python",
   "name": "python",
   "nbconvert_exporter": "python",
   "pygments_lexer": "ipython3",
   "version": "3.8.10"
  },
  "orig_nbformat": 4
 },
 "nbformat": 4,
 "nbformat_minor": 2
}
