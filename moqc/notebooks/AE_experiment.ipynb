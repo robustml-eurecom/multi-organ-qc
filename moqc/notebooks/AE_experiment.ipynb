{
 "cells": [
  {
   "cell_type": "code",
   "execution_count": null,
   "metadata": {},
   "outputs": [],
   "source": [
    "import logging\n",
    "import os\n",
    "import shutil\n",
    "import sys\n",
    "import tempfile\n",
    "import random\n",
    "import numpy as np\n",
    "from tqdm import trange\n",
    "import matplotlib.pyplot as plt\n",
    "import torch\n",
    "from skimage.util import random_noise\n",
    "\n",
    "from monai.apps import download_and_extract\n",
    "from monai.config import print_config\n",
    "from monai.data import CacheDataset, DataLoader\n",
    "from monai.networks.nets import AutoEncoder\n",
    "from monai.transforms import (\n",
    "    EnsureChannelFirstD,\n",
    "    Compose,\n",
    "    LoadImageD,\n",
    "    RandFlipD,\n",
    "    RandRotateD,\n",
    "    RandZoomD,\n",
    "    ScaleIntensityD,\n",
    "    EnsureTypeD,\n",
    "    Lambda,\n",
    ")\n",
    "from monai.utils import set_determinism\n",
    "\n",
    "\n",
    "logging.basicConfig(stream=sys.stdout, level=logging.INFO)\n",
    "set_determinism(0)\n",
    "device = torch.device(\"cuda\" if torch.cuda.is_available() else \"cpu\")"
   ]
  },
  {
   "cell_type": "code",
   "execution_count": null,
   "metadata": {},
   "outputs": [],
   "source": [
    "# Create small visualisation function\n",
    "def plot_ims(ims, shape=None, figsize=(10, 10), titles=None):\n",
    "    shape = (1, len(ims)) if shape is None else shape\n",
    "    plt.subplots(*shape, figsize=figsize)\n",
    "    for i, im in enumerate(ims):\n",
    "        plt.subplot(*shape, i + 1)\n",
    "        im = plt.imread(im) if isinstance(im, str) else torch.squeeze(im)\n",
    "        plt.imshow(im, cmap=\"gray\")\n",
    "        if titles is not None:\n",
    "            plt.title(titles[i])\n",
    "        plt.axis(\"off\")\n",
    "    plt.tight_layout()\n",
    "    plt.show()"
   ]
  },
  {
   "cell_type": "code",
   "execution_count": null,
   "metadata": {},
   "outputs": [],
   "source": [
    "NoiseLambda = Lambda(\n",
    "    lambda d: {\n",
    "        \"orig\": d[\"im\"],\n",
    "        \"gaus\": torch.tensor(random_noise(d[\"im\"], mode=\"gaussian\"), dtype=torch.float32),\n",
    "        \"s&p\": torch.tensor(random_noise(d[\"im\"], mode=\"s&p\", salt_vs_pepper=0.1)),\n",
    "    }\n",
    ")\n",
    "\n",
    "train_transforms = Compose(\n",
    "    [\n",
    "        LoadImageD(keys=[\"im\"]),\n",
    "        EnsureChannelFirstD(keys=[\"im\"]),\n",
    "        ScaleIntensityD(keys=[\"im\"]),\n",
    "        RandRotateD(keys=[\"im\"], range_x=np.pi / 12, prob=0.5, keep_size=True),\n",
    "        RandFlipD(keys=[\"im\"], spatial_axis=0, prob=0.5),\n",
    "        RandZoomD(keys=[\"im\"], min_zoom=0.9, max_zoom=1.1, prob=0.5),\n",
    "        EnsureTypeD(keys=[\"im\"]),\n",
    "        NoiseLambda,\n",
    "    ]\n",
    ")\n",
    "\n",
    "test_transforms = Compose(\n",
    "    [\n",
    "        LoadImageD(keys=[\"im\"]),\n",
    "        EnsureChannelFirstD(keys=[\"im\"]),\n",
    "        ScaleIntensityD(keys=[\"im\"]),\n",
    "        EnsureTypeD(keys=[\"im\"]),\n",
    "        NoiseLambda,\n",
    "    ]\n",
    ")"
   ]
  },
  {
   "cell_type": "code",
   "execution_count": null,
   "metadata": {},
   "outputs": [],
   "source": [
    "!pwd"
   ]
  },
  {
   "cell_type": "code",
   "execution_count": null,
   "metadata": {},
   "outputs": [],
   "source": [
    "%cd .."
   ]
  },
  {
   "cell_type": "code",
   "execution_count": null,
   "metadata": {},
   "outputs": [],
   "source": [
    "import os\n",
    "import matplotlib.pyplot as plt\n",
    "import numpy as np\n",
    "import torch\n",
    "import yaml\n",
    "import nibabel as nib\n",
    "\n",
    "from models.ConvAE.cae import ConvAutoencoder\n",
    "from models.utils import load_opt_params\n",
    "\n",
    "'''\n",
    "Line arguments to implement:\n",
    "    - data path, str\n",
    "    - patient id\n",
    "'''\n",
    "organ = 'prostate'\n",
    "DATA_PATH = os.path.join(\"data\", organ)\n",
    "CONFIG_FILENAME = \"models/config.yml\"\n",
    "\n",
    "device = torch.device(\"cuda\" if torch.cuda.is_available() else \"cpu\")\n",
    "\n",
    "    \n",
    "with open(CONFIG_FILENAME, 'r') as file:\n",
    "    try:\n",
    "        config = yaml.safe_load(file)\n",
    "    except yaml.YAMLError as exc:\n",
    "        print(exc)\n"
   ]
  },
  {
   "cell_type": "code",
   "execution_count": null,
   "metadata": {},
   "outputs": [],
   "source": [
    "%cd .."
   ]
  },
  {
   "cell_type": "code",
   "execution_count": null,
   "metadata": {},
   "outputs": [],
   "source": [
    "KEYS = config[\"run_params\"][\"keys\"]\n",
    "prepro_path = os.path.join(DATA_PATH, \"preprocessed\")\n",
    "optimal_parameters = load_opt_params(prepro_path)\n",
    "\n",
    "ae = ConvAutoencoder(keys=KEYS, **optimal_parameters).to(device)\n",
    "\n",
    "\n",
    "test_ids = np.load(os.path.join(DATA_PATH,'saved_ids.npy'), allow_pickle=True).item().get('test_ids')\n",
    "\n",
    "#PATIENT_ID = int(np.random.choice(test_ids))\n",
    "PATIENT_ID = 30\n",
    "print(f\"Selected patient is Patient N°{PATIENT_ID:03d}\")\n",
    "\n",
    "prediction = nib.load(os.path.join(DATA_PATH, \"measures_structured/patient{:03d}/mask.nii.gz\".format(PATIENT_ID))).get_fdata()[:,:,:].transpose(2, 1, 0)\n",
    "reconstruction = nib.load(os.path.join(DATA_PATH,\"reconstructions/patient{:03d}/mask.nii.gz\".format(PATIENT_ID))).get_fdata().transpose(2, 1, 0)\n",
    "GT = np.round(nib.load(os.path.join(DATA_PATH,\"structured/patient{:03d}/mask.nii.gz\".format(PATIENT_ID))).get_fdata().transpose(2, 1, 0), 2)"
   ]
  },
  {
   "cell_type": "code",
   "execution_count": null,
   "metadata": {},
   "outputs": [],
   "source": [
    "print(prediction.shape), print(reconstruction.shape), print(GT.shape)"
   ]
  },
  {
   "cell_type": "code",
   "execution_count": null,
   "metadata": {},
   "outputs": [],
   "source": [
    "from PIL import Image\n",
    "import cv2\n",
    "\n",
    "def display_image(img, patient_id, name=None):   \n",
    "    img = np.array(img) \n",
    "    folder_out_img = f'evaluations/patient_{patient_id}/'\n",
    "    if not os.path.exists(folder_out_img): os.makedirs(folder_out_img)\n",
    "    img_save_path = f'{folder_out_img}/{name}' if name is not None else f'{folder_out_img}/img.png'\n",
    "    cv2.imwrite(img_save_path, img)\n",
    "    plt.imshow(img, cmap='gray')\n",
    "    plt.show()"
   ]
  },
  {
   "cell_type": "code",
   "execution_count": null,
   "metadata": {},
   "outputs": [],
   "source": [
    "display_image(prediction, PATIENT_ID, name='prediction.png')\n",
    "display_image(reconstruction, PATIENT_ID, name='reconstruction.png')\n",
    "display_image(GT, PATIENT_ID, name='GT.png')"
   ]
  },
  {
   "cell_type": "code",
   "execution_count": null,
   "metadata": {},
   "outputs": [],
   "source": [
    "import cv2\n",
    "img1 = cv2.imread('Bean.jpg',0)\n",
    "img2 = cv2.imread('saltnpepperBean.jpg',0)\n",
    "\n",
    "diff = cv2.absdiff(img1, img2)\n",
    "threshold=int(np.mean(diff))\n",
    "\n",
    "# Make colour version of input image so we can put red pixels in it\n",
    "resultRGB = cv2.cvtColor(img1,cv2.COLOR_GRAY2BGR)\n",
    "\n",
    "# Colorize all pixels above threshold with red \n",
    "resultRGB[diff>3*threshold] = 0,0,255\n",
    "\n",
    "# Save to disk\n",
    "cv2.imwrite('result.jpg',resultRGB)"
   ]
  }
 ],
 "metadata": {
  "kernelspec": {
   "display_name": "FORE",
   "language": "python",
   "name": "python3"
  },
  "language_info": {
   "codemirror_mode": {
    "name": "ipython",
    "version": 3
   },
   "file_extension": ".py",
   "mimetype": "text/x-python",
   "name": "python",
   "nbconvert_exporter": "python",
   "pygments_lexer": "ipython3",
   "version": "3.8.10"
  },
  "orig_nbformat": 4
 },
 "nbformat": 4,
 "nbformat_minor": 2
}
